{
  "nbformat": 4,
  "nbformat_minor": 0,
  "metadata": {
    "colab": {
      "name": "2. Numpy-PUBLIC.ipynb",
      "provenance": [],
      "authorship_tag": "ABX9TyO84iiMLNWfa+g0mu9pl3LX",
      "include_colab_link": true
    },
    "kernelspec": {
      "display_name": "Python 3",
      "name": "python3"
    }
  },
  "cells": [
    {
      "cell_type": "markdown",
      "metadata": {
        "id": "view-in-github",
        "colab_type": "text"
      },
      "source": [
        "<a href=\"https://colab.research.google.com/github/sfragkoul/Intro/blob/main/2_Numpy_PUBLIC.ipynb\" target=\"_parent\"><img src=\"https://colab.research.google.com/assets/colab-badge.svg\" alt=\"Open In Colab\"/></a>"
      ]
    },
    {
      "cell_type": "markdown",
      "metadata": {
        "id": "9DgOwBXTWtwU"
      },
      "source": [
        "Notebook by Stella Fragkouli based on \"Introduction to Scientific Computing in Python\" by Robert Johansson. \r\n",
        "\r\n",
        "\r\n",
        "Aristotle University of Thessaloniki\r\n",
        "\r\n",
        "v1.0 (March 2021)"
      ]
    },
    {
      "cell_type": "markdown",
      "metadata": {
        "id": "jXGwM2p0zAsl"
      },
      "source": [
        "# Chapter 3: Numpy - multidimensional data arrays"
      ]
    },
    {
      "cell_type": "markdown",
      "metadata": {
        "id": "-r5lMc1SzSjV"
      },
      "source": [
        "The numpy package (module) is used in almost all numerical computation using Python. It is a package\r\n",
        "that provide high-performance vector, matrix and higher-dimensional data structures for Python."
      ]
    },
    {
      "cell_type": "markdown",
      "metadata": {
        "id": "md1h27hEzZGc"
      },
      "source": [
        "In the numpy package the terminology used for vectors, matrices and higher-dimensional data sets is\r\n",
        "**array**"
      ]
    },
    {
      "cell_type": "code",
      "metadata": {
        "id": "tIRYqM0XypvR"
      },
      "source": [
        "import numpy as np"
      ],
      "execution_count": 1,
      "outputs": []
    },
    {
      "cell_type": "markdown",
      "metadata": {
        "id": "lRL96cQozAQJ"
      },
      "source": [
        "### 3.2 Creating numpy arrays"
      ]
    },
    {
      "cell_type": "markdown",
      "metadata": {
        "id": "3RMzC2ehw5Qm"
      },
      "source": [
        "There are a number of ways to initialize new numpy arrays, for example from\r\n",
        "\r\n",
        "• a Python list or tuples\r\n",
        "\r\n",
        "• using functions that are dedicated to generating numpy arrays, such as arange, linspace, etc.\r\n",
        "\r\n",
        "• reading data from files"
      ]
    },
    {
      "cell_type": "code",
      "metadata": {
        "id": "4L9G5VMEzvmV",
        "colab": {
          "base_uri": "https://localhost:8080/"
        },
        "outputId": "f5332146-69c8-4d15-ff32-94c7943e3a36"
      },
      "source": [
        "#a vector: the argument to the array function is a Python list\r\n",
        "v = np.array([1,2,3,4]) # is a single dimensional array of 4 elements\r\n",
        "print(v,type(v))\r\n",
        "v.shape"
      ],
      "execution_count": 13,
      "outputs": [
        {
          "output_type": "stream",
          "text": [
            "[1 2 3 4] <class 'numpy.ndarray'>\n"
          ],
          "name": "stdout"
        },
        {
          "output_type": "execute_result",
          "data": {
            "text/plain": [
              "(4,)"
            ]
          },
          "metadata": {
            "tags": []
          },
          "execution_count": 13
        }
      ]
    },
    {
      "cell_type": "code",
      "metadata": {
        "id": "QE6UMhJEzvok",
        "colab": {
          "base_uri": "https://localhost:8080/"
        },
        "outputId": "86762520-f983-4ed2-f21f-43756b07c1db"
      },
      "source": [
        "# a matrix: the argument to the array function is a nested Python list\r\n",
        "M = np.array([[1, 2], [3, 4], [5, 6]]) #is a two - dimensional array which is composed of 3 single dimensional arrays\r\n",
        "print(M,type(M))\r\n",
        "M.shape # same as np.shape(M)"
      ],
      "execution_count": 14,
      "outputs": [
        {
          "output_type": "stream",
          "text": [
            "[[1 2]\n",
            " [3 4]\n",
            " [5 6]] <class 'numpy.ndarray'>\n"
          ],
          "name": "stdout"
        },
        {
          "output_type": "execute_result",
          "data": {
            "text/plain": [
              "(3, 2)"
            ]
          },
          "metadata": {
            "tags": []
          },
          "execution_count": 14
        }
      ]
    },
    {
      "cell_type": "markdown",
      "metadata": {
        "id": "YzRTMv79yeRl"
      },
      "source": [
        "[Numpy shape() documentation](https://numpy.org/doc/stable/reference/generated/numpy.shape.html)"
      ]
    },
    {
      "cell_type": "code",
      "metadata": {
        "id": "SUBe04Ugzvq5",
        "colab": {
          "base_uri": "https://localhost:8080/"
        },
        "outputId": "6f140818-3690-4351-c4ce-69d15eccfa1d"
      },
      "source": [
        "M.size #number of elements in the array"
      ],
      "execution_count": 15,
      "outputs": [
        {
          "output_type": "execute_result",
          "data": {
            "text/plain": [
              "6"
            ]
          },
          "metadata": {
            "tags": []
          },
          "execution_count": 15
        }
      ]
    },
    {
      "cell_type": "markdown",
      "metadata": {
        "id": "gSjj-cRUzT3m"
      },
      "source": [
        "So far the numpy.ndarray looks awefully much like a Python list (or nested list). Why not simply use Python lists for computations instead of creating a new array type?\r\n",
        "\r\n",
        "There are several reasons:\r\n",
        "\r\n",
        "• Python lists are very general. They can contain any kind of object. They are dynamically typed. They do not support mathematical functions such as matrix and dot multiplications, etc. \r\n",
        "\r\n",
        "• NumPy arrays are mutable, which means that you can change the value of an element in the array after an array has been initialized [ stackoverflow](https://stackoverflow.com/questions/5541324/immutable-numpy-array)\r\n",
        "\r\n",
        "• Numpy arrays are memory efficient.\r\n",
        "\r\n",
        "• Because of the static typing, fast implementation of mathematical functions such as multiplication and\r\n",
        "addition of numpy arrays can be implemented in a compiled language (C and Fortran is used)."
      ]
    },
    {
      "cell_type": "code",
      "metadata": {
        "id": "T8EzsWBv4m4Q",
        "colab": {
          "base_uri": "https://localhost:8080/"
        },
        "outputId": "8c11c281-b94b-43a0-d17d-71bf57ed2490"
      },
      "source": [
        "M.dtype #returns what type the data of an array has"
      ],
      "execution_count": 20,
      "outputs": [
        {
          "output_type": "execute_result",
          "data": {
            "text/plain": [
              "dtype('int64')"
            ]
          },
          "metadata": {
            "tags": []
          },
          "execution_count": 20
        }
      ]
    },
    {
      "cell_type": "code",
      "metadata": {
        "id": "j4sQaXEg4m6t"
      },
      "source": [
        "#We get an error if we try to assign a value of the wrong type to an element in a numpy array\r\n",
        "M[0,0] = \"hello\""
      ],
      "execution_count": null,
      "outputs": []
    },
    {
      "cell_type": "code",
      "metadata": {
        "id": "WM32N9dA4m9A",
        "colab": {
          "base_uri": "https://localhost:8080/"
        },
        "outputId": "82e54455-5eca-43a6-99fa-5e6ab6c6a442"
      },
      "source": [
        "# we can explicitly define the type of the array data when we create it, using the dtype keyword argument:\r\n",
        "M = np.array([[1, 2], [3, 4]], dtype=complex)\r\n",
        "print(M)\r\n",
        "\r\n",
        "#We can also explicitly define the bit size of the data types, for example: int16, float64, complex128"
      ],
      "execution_count": 22,
      "outputs": [
        {
          "output_type": "stream",
          "text": [
            "[[1.+0.j 2.+0.j]\n",
            " [3.+0.j 4.+0.j]]\n"
          ],
          "name": "stdout"
        }
      ]
    },
    {
      "cell_type": "code",
      "metadata": {
        "id": "Q7ayFE7u4m_r",
        "colab": {
          "base_uri": "https://localhost:8080/"
        },
        "outputId": "9f3154ff-ae54-436e-b257-e8f251a920af"
      },
      "source": [
        "# create a range\r\n",
        "x = np.arange(0, 10, 1) # arguments: start, stop, step\r\n",
        "x\r\n",
        "#x.shape"
      ],
      "execution_count": 25,
      "outputs": [
        {
          "output_type": "execute_result",
          "data": {
            "text/plain": [
              "array([0, 1, 2, 3, 4, 5, 6, 7, 8, 9])"
            ]
          },
          "metadata": {
            "tags": []
          },
          "execution_count": 25
        }
      ]
    },
    {
      "cell_type": "code",
      "metadata": {
        "id": "V-8laUaX4nBt",
        "colab": {
          "base_uri": "https://localhost:8080/"
        },
        "outputId": "50696225-c22a-42c3-a127-e2cf1ea2070c"
      },
      "source": [
        "x = np.arange(-1, 1, 0.1)\r\n",
        "x"
      ],
      "execution_count": 26,
      "outputs": [
        {
          "output_type": "execute_result",
          "data": {
            "text/plain": [
              "array([-1.00000000e+00, -9.00000000e-01, -8.00000000e-01, -7.00000000e-01,\n",
              "       -6.00000000e-01, -5.00000000e-01, -4.00000000e-01, -3.00000000e-01,\n",
              "       -2.00000000e-01, -1.00000000e-01, -2.22044605e-16,  1.00000000e-01,\n",
              "        2.00000000e-01,  3.00000000e-01,  4.00000000e-01,  5.00000000e-01,\n",
              "        6.00000000e-01,  7.00000000e-01,  8.00000000e-01,  9.00000000e-01])"
            ]
          },
          "metadata": {
            "tags": []
          },
          "execution_count": 26
        }
      ]
    },
    {
      "cell_type": "code",
      "metadata": {
        "id": "8XJMCMvC7EEM",
        "colab": {
          "base_uri": "https://localhost:8080/"
        },
        "outputId": "6dfb9f33-ea95-4d0b-c2a9-af1deb1803d4"
      },
      "source": [
        "# using linspace, *both end points ARE included*!!!\r\n",
        "np.linspace(0, 10, 25) #(start, stop, num=50)"
      ],
      "execution_count": 28,
      "outputs": [
        {
          "output_type": "execute_result",
          "data": {
            "text/plain": [
              "array([ 0.        ,  0.41666667,  0.83333333,  1.25      ,  1.66666667,\n",
              "        2.08333333,  2.5       ,  2.91666667,  3.33333333,  3.75      ,\n",
              "        4.16666667,  4.58333333,  5.        ,  5.41666667,  5.83333333,\n",
              "        6.25      ,  6.66666667,  7.08333333,  7.5       ,  7.91666667,\n",
              "        8.33333333,  8.75      ,  9.16666667,  9.58333333, 10.        ])"
            ]
          },
          "metadata": {
            "tags": []
          },
          "execution_count": 28
        }
      ]
    },
    {
      "cell_type": "code",
      "metadata": {
        "id": "_CoBEc8B7EGj",
        "colab": {
          "base_uri": "https://localhost:8080/"
        },
        "outputId": "4dd4b90e-02a6-4fd1-e79c-212309e9aa18"
      },
      "source": [
        "\r\n",
        "\r\n",
        "np.logspace(0, 10, 10, base=e)\r\n",
        "\r\n",
        "#can you guess the error here?"
      ],
      "execution_count": 30,
      "outputs": [
        {
          "output_type": "execute_result",
          "data": {
            "text/plain": [
              "array([1.00000000e+00, 3.03773178e+00, 9.22781435e+00, 2.80316249e+01,\n",
              "       8.51525577e+01, 2.58670631e+02, 7.85771994e+02, 2.38696456e+03,\n",
              "       7.25095809e+03, 2.20264658e+04])"
            ]
          },
          "metadata": {
            "tags": []
          },
          "execution_count": 30
        }
      ]
    },
    {
      "cell_type": "code",
      "metadata": {
        "id": "J-iCNCW0_LtR",
        "colab": {
          "base_uri": "https://localhost:8080/"
        },
        "outputId": "f7480c6a-b445-4448-a43e-b65a0f54c441"
      },
      "source": [
        "x, y = np.mgrid[0:5, 0:5]\r\n",
        "x"
      ],
      "execution_count": 34,
      "outputs": [
        {
          "output_type": "execute_result",
          "data": {
            "text/plain": [
              "array([[0, 0, 0, 0, 0],\n",
              "       [1, 1, 1, 1, 1],\n",
              "       [2, 2, 2, 2, 2],\n",
              "       [3, 3, 3, 3, 3],\n",
              "       [4, 4, 4, 4, 4]])"
            ]
          },
          "metadata": {
            "tags": []
          },
          "execution_count": 34
        }
      ]
    },
    {
      "cell_type": "code",
      "metadata": {
        "id": "6Zy8ljFtAldB",
        "colab": {
          "base_uri": "https://localhost:8080/"
        },
        "outputId": "8449a14e-2495-4e9c-ce60-f92105b3ac83"
      },
      "source": [
        "y"
      ],
      "execution_count": 32,
      "outputs": [
        {
          "output_type": "execute_result",
          "data": {
            "text/plain": [
              "array([[0, 1, 2, 3, 4],\n",
              "       [0, 1, 2, 3, 4],\n",
              "       [0, 1, 2, 3, 4],\n",
              "       [0, 1, 2, 3, 4],\n",
              "       [0, 1, 2, 3, 4]])"
            ]
          },
          "metadata": {
            "tags": []
          },
          "execution_count": 32
        }
      ]
    },
    {
      "cell_type": "code",
      "metadata": {
        "id": "a9g2iRtFD6Pp",
        "colab": {
          "base_uri": "https://localhost:8080/"
        },
        "outputId": "45a4c361-ad67-4b3d-e80d-d5b7f22c4bf3"
      },
      "source": [
        "from numpy import random\r\n",
        "\r\n",
        "# uniform random numbers in [0,1]\r\n",
        "random.rand(5,5)"
      ],
      "execution_count": 36,
      "outputs": [
        {
          "output_type": "execute_result",
          "data": {
            "text/plain": [
              "array([[0.10542871, 0.33515915, 0.54858164, 0.40066802, 0.75289059],\n",
              "       [0.29146932, 0.81037655, 0.35596955, 0.68598895, 0.78396426],\n",
              "       [0.59162627, 0.48764639, 0.15072915, 0.03089668, 0.70633608],\n",
              "       [0.78876611, 0.95924195, 0.48057423, 0.41753717, 0.11742762],\n",
              "       [0.55661422, 0.04470073, 0.17183148, 0.18883154, 0.69057948]])"
            ]
          },
          "metadata": {
            "tags": []
          },
          "execution_count": 36
        }
      ]
    },
    {
      "cell_type": "code",
      "metadata": {
        "id": "3RetFvFcD6S8",
        "colab": {
          "base_uri": "https://localhost:8080/"
        },
        "outputId": "0d7e13cc-4d7f-41ba-f4ea-ede228e9fa60"
      },
      "source": [
        "# standard normal distributed random numbers\r\n",
        "random.randn(5,5)"
      ],
      "execution_count": 37,
      "outputs": [
        {
          "output_type": "execute_result",
          "data": {
            "text/plain": [
              "array([[ 6.99967196e-01, -7.77572186e-01, -1.41944450e+00,\n",
              "        -7.99536985e-01, -3.93469105e+00],\n",
              "       [ 1.35654510e-01, -2.76077212e-01,  1.29009854e-01,\n",
              "         3.40811819e-01,  3.27394004e-01],\n",
              "       [-4.88785936e-01, -1.18595228e+00, -5.52079861e-01,\n",
              "         3.33312561e-01,  2.48310633e-02],\n",
              "       [-3.78451338e-01,  3.42021481e-01,  1.41158969e-03,\n",
              "        -9.92350236e-01, -1.74448926e-01],\n",
              "       [ 9.73797037e-01, -1.89040695e-01, -4.55409901e-01,\n",
              "         1.11270388e+00,  1.22996734e+00]])"
            ]
          },
          "metadata": {
            "tags": []
          },
          "execution_count": 37
        }
      ]
    },
    {
      "cell_type": "code",
      "metadata": {
        "id": "_hihfB9KD6U5",
        "colab": {
          "base_uri": "https://localhost:8080/"
        },
        "outputId": "aafa4733-ff7f-4bc9-c719-bcb90aab06e5"
      },
      "source": [
        "# a diagonal matrix\r\n",
        "np.diag([1,2,3])"
      ],
      "execution_count": 38,
      "outputs": [
        {
          "output_type": "execute_result",
          "data": {
            "text/plain": [
              "array([[1, 0, 0],\n",
              "       [0, 2, 0],\n",
              "       [0, 0, 3]])"
            ]
          },
          "metadata": {
            "tags": []
          },
          "execution_count": 38
        }
      ]
    },
    {
      "cell_type": "code",
      "metadata": {
        "id": "y14pZV0wD6XB",
        "colab": {
          "base_uri": "https://localhost:8080/"
        },
        "outputId": "47c0d165-2150-43c7-de31-e82d47e167b4"
      },
      "source": [
        "# diagonal with offset from the main diagonal\r\n",
        "np.diag([1,2,3], k=1)"
      ],
      "execution_count": 43,
      "outputs": [
        {
          "output_type": "execute_result",
          "data": {
            "text/plain": [
              "array([[0, 1, 0, 0],\n",
              "       [0, 0, 2, 0],\n",
              "       [0, 0, 0, 3],\n",
              "       [0, 0, 0, 0]])"
            ]
          },
          "metadata": {
            "tags": []
          },
          "execution_count": 43
        }
      ]
    },
    {
      "cell_type": "code",
      "metadata": {
        "id": "hKtOARVLFWd1",
        "colab": {
          "base_uri": "https://localhost:8080/"
        },
        "outputId": "36954d8c-74be-4fb9-b1a8-646fa80a7744"
      },
      "source": [
        "np.zeros((3,3))"
      ],
      "execution_count": 44,
      "outputs": [
        {
          "output_type": "execute_result",
          "data": {
            "text/plain": [
              "array([[0., 0., 0.],\n",
              "       [0., 0., 0.],\n",
              "       [0., 0., 0.]])"
            ]
          },
          "metadata": {
            "tags": []
          },
          "execution_count": 44
        }
      ]
    },
    {
      "cell_type": "code",
      "metadata": {
        "id": "XtqLKP90FZh0",
        "colab": {
          "base_uri": "https://localhost:8080/"
        },
        "outputId": "02270466-faa8-43e2-ab83-8510ba1f0456"
      },
      "source": [
        "np.ones((3,3))"
      ],
      "execution_count": 45,
      "outputs": [
        {
          "output_type": "execute_result",
          "data": {
            "text/plain": [
              "array([[1., 1., 1.],\n",
              "       [1., 1., 1.],\n",
              "       [1., 1., 1.]])"
            ]
          },
          "metadata": {
            "tags": []
          },
          "execution_count": 45
        }
      ]
    },
    {
      "cell_type": "code",
      "metadata": {
        "id": "Ac4AeV8oFgZx",
        "colab": {
          "base_uri": "https://localhost:8080/"
        },
        "outputId": "b77e5064-ab04-40f8-9cf8-d38e6eae191c"
      },
      "source": [
        "M=np.eye(6)\r\n",
        "M"
      ],
      "execution_count": 47,
      "outputs": [
        {
          "output_type": "execute_result",
          "data": {
            "text/plain": [
              "array([[1., 0., 0., 0., 0., 0.],\n",
              "       [0., 1., 0., 0., 0., 0.],\n",
              "       [0., 0., 1., 0., 0., 0.],\n",
              "       [0., 0., 0., 1., 0., 0.],\n",
              "       [0., 0., 0., 0., 1., 0.],\n",
              "       [0., 0., 0., 0., 0., 1.]])"
            ]
          },
          "metadata": {
            "tags": []
          },
          "execution_count": 47
        }
      ]
    },
    {
      "cell_type": "markdown",
      "metadata": {
        "id": "LoJUixjNGuK6"
      },
      "source": [
        "### Numpy's native file format"
      ]
    },
    {
      "cell_type": "code",
      "metadata": {
        "id": "FNbEFH9aGO5h"
      },
      "source": [
        "np.save(\"eye-matrix.npy\", M)\r\n"
      ],
      "execution_count": 48,
      "outputs": []
    },
    {
      "cell_type": "code",
      "metadata": {
        "id": "XrH06PHdGbGX",
        "colab": {
          "base_uri": "https://localhost:8080/"
        },
        "outputId": "c55c3371-4df6-4ae0-a928-13c1577f07b6"
      },
      "source": [
        "np.load(\"eye-matrix.npy\")"
      ],
      "execution_count": 49,
      "outputs": [
        {
          "output_type": "execute_result",
          "data": {
            "text/plain": [
              "array([[1., 0., 0., 0., 0., 0.],\n",
              "       [0., 1., 0., 0., 0., 0.],\n",
              "       [0., 0., 1., 0., 0., 0.],\n",
              "       [0., 0., 0., 1., 0., 0.],\n",
              "       [0., 0., 0., 0., 1., 0.],\n",
              "       [0., 0., 0., 0., 0., 1.]])"
            ]
          },
          "metadata": {
            "tags": []
          },
          "execution_count": 49
        }
      ]
    },
    {
      "cell_type": "markdown",
      "metadata": {
        "id": "qkZ1kVUyG8Yg"
      },
      "source": [
        "### 3.5 Manipulating arrays"
      ]
    },
    {
      "cell_type": "code",
      "metadata": {
        "id": "X5Ow-pBqG77i",
        "colab": {
          "base_uri": "https://localhost:8080/"
        },
        "outputId": "4673ad6e-e32f-4407-e1fb-4f5bb7bcac29"
      },
      "source": [
        "M = np.array([[1, 2], [3, 4], [5, 6]])\r\n",
        "print(M)"
      ],
      "execution_count": 50,
      "outputs": [
        {
          "output_type": "stream",
          "text": [
            "[[1 2]\n",
            " [3 4]\n",
            " [5 6]]\n"
          ],
          "name": "stdout"
        }
      ]
    },
    {
      "cell_type": "code",
      "metadata": {
        "id": "X3GRQxeiHcqi",
        "colab": {
          "base_uri": "https://localhost:8080/"
        },
        "outputId": "0b42b6d8-113d-44df-87e8-1b1231b900cc"
      },
      "source": [
        "## M is a matrix, or a 2 dimensional array, taking two indices\r\n",
        "\r\n",
        "M[1,1]"
      ],
      "execution_count": 51,
      "outputs": [
        {
          "output_type": "execute_result",
          "data": {
            "text/plain": [
              "4"
            ]
          },
          "metadata": {
            "tags": []
          },
          "execution_count": 51
        }
      ]
    },
    {
      "cell_type": "code",
      "metadata": {
        "id": "QQ3QmPWvHcta",
        "colab": {
          "base_uri": "https://localhost:8080/"
        },
        "outputId": "bd67a641-91df-4e13-9dbe-44af3d6cd31f"
      },
      "source": [
        "# If we omit an index of a multidimensional array it returns the whole row\r\n",
        "M[0]"
      ],
      "execution_count": 52,
      "outputs": [
        {
          "output_type": "execute_result",
          "data": {
            "text/plain": [
              "array([1, 2])"
            ]
          },
          "metadata": {
            "tags": []
          },
          "execution_count": 52
        }
      ]
    },
    {
      "cell_type": "code",
      "metadata": {
        "id": "N7tYZTJzHcvm",
        "colab": {
          "base_uri": "https://localhost:8080/"
        },
        "outputId": "0ad3c8a6-26fd-4ba5-fa03-c398d739c7db"
      },
      "source": [
        "#The same thing can be achieved with using : instead of an index\r\n",
        "M[1,:]"
      ],
      "execution_count": 53,
      "outputs": [
        {
          "output_type": "execute_result",
          "data": {
            "text/plain": [
              "array([3, 4])"
            ]
          },
          "metadata": {
            "tags": []
          },
          "execution_count": 53
        }
      ]
    },
    {
      "cell_type": "code",
      "metadata": {
        "id": "I0s1gaAqIPKz",
        "colab": {
          "base_uri": "https://localhost:8080/"
        },
        "outputId": "4e86e55e-efaf-401f-aceb-28940c58b9bb"
      },
      "source": [
        "M[0,0] = 10\r\n",
        "M"
      ],
      "execution_count": 54,
      "outputs": [
        {
          "output_type": "execute_result",
          "data": {
            "text/plain": [
              "array([[10,  2],\n",
              "       [ 3,  4],\n",
              "       [ 5,  6]])"
            ]
          },
          "metadata": {
            "tags": []
          },
          "execution_count": 54
        }
      ]
    },
    {
      "cell_type": "code",
      "metadata": {
        "id": "BpTiHH3AITuV",
        "colab": {
          "base_uri": "https://localhost:8080/"
        },
        "outputId": "8d4b1ac3-eaf7-46d7-dce8-11f9f7db4d57"
      },
      "source": [
        "#@title Exercise Numpy Index\n",
        "# also works for rows and columns\n",
        "M[1,:] = 0\n",
        "M[:,1] = -1\n",
        "M"
      ],
      "execution_count": 55,
      "outputs": [
        {
          "output_type": "execute_result",
          "data": {
            "text/plain": [
              "array([[10, -1],\n",
              "       [ 0, -1],\n",
              "       [ 5, -1]])"
            ]
          },
          "metadata": {
            "tags": []
          },
          "execution_count": 55
        }
      ]
    },
    {
      "cell_type": "code",
      "metadata": {
        "id": "0vgimRacL78W",
        "colab": {
          "base_uri": "https://localhost:8080/"
        },
        "outputId": "8e647e7c-fbed-4127-b364-b57c2fbf0782"
      },
      "source": [
        "A = np.array([1,2,3,4,5])\r\n",
        "A"
      ],
      "execution_count": 58,
      "outputs": [
        {
          "output_type": "execute_result",
          "data": {
            "text/plain": [
              "array([1, 2, 3, 4, 5])"
            ]
          },
          "metadata": {
            "tags": []
          },
          "execution_count": 58
        }
      ]
    },
    {
      "cell_type": "code",
      "metadata": {
        "id": "6vc2ZUw1L7-w",
        "colab": {
          "base_uri": "https://localhost:8080/"
        },
        "outputId": "0b89b2ef-18ff-40a2-c1ff-efe33d45f334"
      },
      "source": [
        "A[1:3]"
      ],
      "execution_count": 59,
      "outputs": [
        {
          "output_type": "execute_result",
          "data": {
            "text/plain": [
              "array([2, 3])"
            ]
          },
          "metadata": {
            "tags": []
          },
          "execution_count": 59
        }
      ]
    },
    {
      "cell_type": "code",
      "metadata": {
        "id": "r9_zaJlxL8ZN",
        "colab": {
          "base_uri": "https://localhost:8080/"
        },
        "outputId": "caca7952-9de7-4786-cd67-d1ff178ddde7"
      },
      "source": [
        "# Array slices are mutable: if they are assigned a new value the original array is modified\r\n",
        "A[1:3] = [-2,-3]\r\n",
        "A"
      ],
      "execution_count": 60,
      "outputs": [
        {
          "output_type": "execute_result",
          "data": {
            "text/plain": [
              "array([ 1, -2, -3,  4,  5])"
            ]
          },
          "metadata": {
            "tags": []
          },
          "execution_count": 60
        }
      ]
    },
    {
      "cell_type": "code",
      "metadata": {
        "id": "GMTyVMxrL8cG",
        "colab": {
          "base_uri": "https://localhost:8080/"
        },
        "outputId": "0a0b0359-0131-4d48-e4cc-2b188ee7b426"
      },
      "source": [
        "A = np.array([[m+n*10 for n in range(5)] for m in range(5)])\r\n",
        "A"
      ],
      "execution_count": 67,
      "outputs": [
        {
          "output_type": "execute_result",
          "data": {
            "text/plain": [
              "array([[ 0, 10, 20, 30, 40],\n",
              "       [ 1, 11, 21, 31, 41],\n",
              "       [ 2, 12, 22, 32, 42],\n",
              "       [ 3, 13, 23, 33, 43],\n",
              "       [ 4, 14, 24, 34, 44]])"
            ]
          },
          "metadata": {
            "tags": []
          },
          "execution_count": 67
        }
      ]
    },
    {
      "cell_type": "code",
      "metadata": {
        "id": "1DU1pjurPjrl",
        "colab": {
          "base_uri": "https://localhost:8080/"
        },
        "outputId": "1e4e44ee-2a7e-4752-e646-0cc59a4f89ac"
      },
      "source": [
        "# a block from the original array\r\n",
        "A[1:4, 1:4]"
      ],
      "execution_count": 68,
      "outputs": [
        {
          "output_type": "execute_result",
          "data": {
            "text/plain": [
              "array([[11, 21, 31],\n",
              "       [12, 22, 32],\n",
              "       [13, 23, 33]])"
            ]
          },
          "metadata": {
            "tags": []
          },
          "execution_count": 68
        }
      ]
    },
    {
      "cell_type": "code",
      "metadata": {
        "id": "rSKa790SP2JD",
        "colab": {
          "base_uri": "https://localhost:8080/"
        },
        "outputId": "328b16bc-f060-49d4-a8ea-84aaf6eedf47"
      },
      "source": [
        "# strides\r\n",
        "A[::2, ::2]"
      ],
      "execution_count": 69,
      "outputs": [
        {
          "output_type": "execute_result",
          "data": {
            "text/plain": [
              "array([[ 0, 20, 40],\n",
              "       [ 2, 22, 42],\n",
              "       [ 4, 24, 44]])"
            ]
          },
          "metadata": {
            "tags": []
          },
          "execution_count": 69
        }
      ]
    },
    {
      "cell_type": "markdown",
      "metadata": {
        "id": "zdKNVEVkc4T3"
      },
      "source": [
        "**index masks**:  If the index mask is an Numpy array of data type bool, then an element is selected (True) or not (False) depending on the value of the index mask at the position of each element"
      ]
    },
    {
      "cell_type": "code",
      "metadata": {
        "id": "EdJw6MVCcz0k",
        "colab": {
          "base_uri": "https://localhost:8080/"
        },
        "outputId": "99b578e7-4bd4-46bc-a322-e6ba10d72ad0"
      },
      "source": [
        "B = np.array([n for n in range(5)])\r\n",
        "B"
      ],
      "execution_count": 72,
      "outputs": [
        {
          "output_type": "execute_result",
          "data": {
            "text/plain": [
              "array([0, 1, 2, 3, 4])"
            ]
          },
          "metadata": {
            "tags": []
          },
          "execution_count": 72
        }
      ]
    },
    {
      "cell_type": "code",
      "metadata": {
        "id": "Rb7EB21xc0Bf",
        "colab": {
          "base_uri": "https://localhost:8080/"
        },
        "outputId": "3a2372bd-d300-418d-b495-772a8cd97d5b"
      },
      "source": [
        "row_mask = np.array([True, False, True, False, False])\r\n",
        "B[row_mask]\r\n",
        "\r\n",
        "# same thing\r\n",
        "row_mask = np.array([1,0,1,0,0], dtype=bool)\r\n",
        "B[row_mask]"
      ],
      "execution_count": 73,
      "outputs": [
        {
          "output_type": "execute_result",
          "data": {
            "text/plain": [
              "array([0, 2])"
            ]
          },
          "metadata": {
            "tags": []
          },
          "execution_count": 73
        }
      ]
    },
    {
      "cell_type": "markdown",
      "metadata": {
        "id": "yKm4ts0Je97W"
      },
      "source": [
        "This feature is very useful to conditionally select elements from an array, using for example comparison\r\n",
        "operators"
      ]
    },
    {
      "cell_type": "code",
      "metadata": {
        "id": "c639y83bc0JE",
        "colab": {
          "base_uri": "https://localhost:8080/"
        },
        "outputId": "13274f78-b302-4acc-a4b0-0d4692c2367e"
      },
      "source": [
        "x = np.arange(0, 10, 0.5)\r\n",
        "x"
      ],
      "execution_count": 74,
      "outputs": [
        {
          "output_type": "execute_result",
          "data": {
            "text/plain": [
              "array([0. , 0.5, 1. , 1.5, 2. , 2.5, 3. , 3.5, 4. , 4.5, 5. , 5.5, 6. ,\n",
              "       6.5, 7. , 7.5, 8. , 8.5, 9. , 9.5])"
            ]
          },
          "metadata": {
            "tags": []
          },
          "execution_count": 74
        }
      ]
    },
    {
      "cell_type": "code",
      "metadata": {
        "id": "9k01FR0_fEBY",
        "colab": {
          "base_uri": "https://localhost:8080/"
        },
        "outputId": "a7195929-c9bc-49ce-e7b2-cb01b9a78d7b"
      },
      "source": [
        "mask = (5 < x) * (x < 7.5)\r\n",
        "mask"
      ],
      "execution_count": 75,
      "outputs": [
        {
          "output_type": "execute_result",
          "data": {
            "text/plain": [
              "array([False, False, False, False, False, False, False, False, False,\n",
              "       False, False,  True,  True,  True,  True, False, False, False,\n",
              "       False, False])"
            ]
          },
          "metadata": {
            "tags": []
          },
          "execution_count": 75
        }
      ]
    },
    {
      "cell_type": "markdown",
      "metadata": {
        "id": "TQspYmE99Pk7"
      },
      "source": [
        "Fancy indexing is conceptually simple: it means passing an array of indices to access multiple array elements at once"
      ]
    },
    {
      "cell_type": "code",
      "metadata": {
        "id": "sifBYQw7fEDs",
        "colab": {
          "base_uri": "https://localhost:8080/"
        },
        "outputId": "a2aff684-bc9c-4ceb-9475-e0bbb206b66c"
      },
      "source": [
        "x[mask] #fancy indexing"
      ],
      "execution_count": 76,
      "outputs": [
        {
          "output_type": "execute_result",
          "data": {
            "text/plain": [
              "array([5.5, 6. , 6.5, 7. ])"
            ]
          },
          "metadata": {
            "tags": []
          },
          "execution_count": 76
        }
      ]
    },
    {
      "cell_type": "markdown",
      "metadata": {
        "id": "QJOml4oCgrZZ"
      },
      "source": [
        "### 3.6 Functions for extracting data from arrays and creating arrays"
      ]
    },
    {
      "cell_type": "markdown",
      "metadata": {
        "id": "J2hcteohguhO"
      },
      "source": [
        "**where**\r\n",
        "\r\n",
        "The index mask can be converted to position index using the where function"
      ]
    },
    {
      "cell_type": "code",
      "metadata": {
        "id": "p0cIZlI1fEG9",
        "colab": {
          "base_uri": "https://localhost:8080/"
        },
        "outputId": "1afa5000-9e7a-4a1e-a067-f6ed95ca2805"
      },
      "source": [
        "indices = np.where(mask) #tells us where this is true\r\n",
        "indices"
      ],
      "execution_count": 77,
      "outputs": [
        {
          "output_type": "execute_result",
          "data": {
            "text/plain": [
              "(array([11, 12, 13, 14]),)"
            ]
          },
          "metadata": {
            "tags": []
          },
          "execution_count": 77
        }
      ]
    },
    {
      "cell_type": "code",
      "metadata": {
        "id": "k2p7yALGfEJW",
        "colab": {
          "base_uri": "https://localhost:8080/"
        },
        "outputId": "f63c98da-4983-41c4-ac36-cf7004cc39c5"
      },
      "source": [
        "x[indices]"
      ],
      "execution_count": 78,
      "outputs": [
        {
          "output_type": "execute_result",
          "data": {
            "text/plain": [
              "array([5.5, 6. , 6.5, 7. ])"
            ]
          },
          "metadata": {
            "tags": []
          },
          "execution_count": 78
        }
      ]
    },
    {
      "cell_type": "markdown",
      "metadata": {
        "id": "b8A_HX7bhguB"
      },
      "source": [
        "**diag**\r\n",
        "With the diag function we can also extract the diagonal and subdiagonals of an array"
      ]
    },
    {
      "cell_type": "code",
      "metadata": {
        "id": "hRY0AwkpfELT",
        "colab": {
          "base_uri": "https://localhost:8080/"
        },
        "outputId": "cc58858a-6a47-4f03-a3ff-16e710827f37"
      },
      "source": [
        "A = np.array([[m+n*10 for n in range(5)] for m in range(5)]) # like before\r\n",
        "A\r\n",
        "#np.diag(A)"
      ],
      "execution_count": 82,
      "outputs": [
        {
          "output_type": "execute_result",
          "data": {
            "text/plain": [
              "array([[ 0, 10, 20, 30, 40],\n",
              "       [ 1, 11, 21, 31, 41],\n",
              "       [ 2, 12, 22, 32, 42],\n",
              "       [ 3, 13, 23, 33, 43],\n",
              "       [ 4, 14, 24, 34, 44]])"
            ]
          },
          "metadata": {
            "tags": []
          },
          "execution_count": 82
        }
      ]
    },
    {
      "cell_type": "code",
      "metadata": {
        "id": "wH6C2j6hfEN4",
        "colab": {
          "base_uri": "https://localhost:8080/"
        },
        "outputId": "aa8aa035-6fdc-454e-b6b2-33da4f716321"
      },
      "source": [
        "np.diag(A, -2)"
      ],
      "execution_count": 81,
      "outputs": [
        {
          "output_type": "execute_result",
          "data": {
            "text/plain": [
              "array([ 2, 13, 24])"
            ]
          },
          "metadata": {
            "tags": []
          },
          "execution_count": 81
        }
      ]
    },
    {
      "cell_type": "markdown",
      "metadata": {
        "id": "E6phAQciip0B"
      },
      "source": [
        "### 3.7 Linear algebra\r\n",
        "\r\n",
        "Vectorizing code is the key to writing eficient numerical calculation with Python/Numpy. That means\r\n",
        "that as much as possible of a program should be formulated in terms of matrix and vector operations, like\r\n",
        "matrix-matrix multiplication."
      ]
    },
    {
      "cell_type": "code",
      "metadata": {
        "id": "bUcluPYBfEPx"
      },
      "source": [
        "#Scalar-array operations\r\n",
        "\r\n",
        "v1 = np.arange(0, 5)\r\n",
        "v2=v1 * 2"
      ],
      "execution_count": 106,
      "outputs": []
    },
    {
      "cell_type": "code",
      "metadata": {
        "id": "TG0epzGvm2XI",
        "colab": {
          "base_uri": "https://localhost:8080/"
        },
        "outputId": "bc0de6a8-8480-4176-a6ec-1d11cab31419"
      },
      "source": [
        "A"
      ],
      "execution_count": 84,
      "outputs": [
        {
          "output_type": "execute_result",
          "data": {
            "text/plain": [
              "array([[ 0, 10, 20, 30, 40],\n",
              "       [ 1, 11, 21, 31, 41],\n",
              "       [ 2, 12, 22, 32, 42],\n",
              "       [ 3, 13, 23, 33, 43],\n",
              "       [ 4, 14, 24, 34, 44]])"
            ]
          },
          "metadata": {
            "tags": []
          },
          "execution_count": 84
        }
      ]
    },
    {
      "cell_type": "code",
      "metadata": {
        "id": "Qv-JdeS4iwdR",
        "colab": {
          "base_uri": "https://localhost:8080/"
        },
        "outputId": "01c0d3d4-94ce-44e1-fa34-039e7826046a"
      },
      "source": [
        "#Element-wise array-array operations. the default behaviour is element-wise\r\n",
        "\r\n",
        "A * A # element-wise multiplication"
      ],
      "execution_count": 85,
      "outputs": [
        {
          "output_type": "execute_result",
          "data": {
            "text/plain": [
              "array([[   0,  100,  400,  900, 1600],\n",
              "       [   1,  121,  441,  961, 1681],\n",
              "       [   4,  144,  484, 1024, 1764],\n",
              "       [   9,  169,  529, 1089, 1849],\n",
              "       [  16,  196,  576, 1156, 1936]])"
            ]
          },
          "metadata": {
            "tags": []
          },
          "execution_count": 85
        }
      ]
    },
    {
      "cell_type": "code",
      "metadata": {
        "id": "dxV3Oin0iwfx",
        "colab": {
          "base_uri": "https://localhost:8080/"
        },
        "outputId": "0bbf91a4-8b9d-473d-bcde-64127d28241c"
      },
      "source": [
        "v1 * v1"
      ],
      "execution_count": 86,
      "outputs": [
        {
          "output_type": "execute_result",
          "data": {
            "text/plain": [
              "array([ 0,  1,  4,  9, 16])"
            ]
          },
          "metadata": {
            "tags": []
          },
          "execution_count": 86
        }
      ]
    },
    {
      "cell_type": "code",
      "metadata": {
        "id": "x6Av1DF-iwiV",
        "colab": {
          "base_uri": "https://localhost:8080/"
        },
        "outputId": "18de3861-a090-4d19-dd14-df2aaccfe623"
      },
      "source": [
        "#If we multiply arrays with compatible shapes, we get an element-wise multiplication of each row\r\n",
        "A.shape, v1.shape"
      ],
      "execution_count": 87,
      "outputs": [
        {
          "output_type": "execute_result",
          "data": {
            "text/plain": [
              "((5, 5), (5,))"
            ]
          },
          "metadata": {
            "tags": []
          },
          "execution_count": 87
        }
      ]
    },
    {
      "cell_type": "code",
      "metadata": {
        "id": "j_SYZXDciwkU",
        "colab": {
          "base_uri": "https://localhost:8080/"
        },
        "outputId": "c3901ec3-b3eb-4423-993c-124a6836ede9"
      },
      "source": [
        "A * v1"
      ],
      "execution_count": 96,
      "outputs": [
        {
          "output_type": "execute_result",
          "data": {
            "text/plain": [
              "array([[  0,  10,  40,  90, 160],\n",
              "       [  0,  11,  42,  93, 164],\n",
              "       [  0,  12,  44,  96, 168],\n",
              "       [  0,  13,  46,  99, 172],\n",
              "       [  0,  14,  48, 102, 176]])"
            ]
          },
          "metadata": {
            "tags": []
          },
          "execution_count": 96
        }
      ]
    },
    {
      "cell_type": "code",
      "metadata": {
        "id": "TDO-FCZLiwmu",
        "colab": {
          "base_uri": "https://localhost:8080/"
        },
        "outputId": "2599019c-5a0d-4632-e457-12415b12d990"
      },
      "source": [
        "#matrix mutiplication\r\n",
        "np.dot(A, A)"
      ],
      "execution_count": 97,
      "outputs": [
        {
          "output_type": "execute_result",
          "data": {
            "text/plain": [
              "array([[ 300, 1300, 2300, 3300, 4300],\n",
              "       [ 310, 1360, 2410, 3460, 4510],\n",
              "       [ 320, 1420, 2520, 3620, 4720],\n",
              "       [ 330, 1480, 2630, 3780, 4930],\n",
              "       [ 340, 1540, 2740, 3940, 5140]])"
            ]
          },
          "metadata": {
            "tags": []
          },
          "execution_count": 97
        }
      ]
    },
    {
      "cell_type": "code",
      "metadata": {
        "id": "dvH5qPdsmzAH",
        "colab": {
          "base_uri": "https://localhost:8080/"
        },
        "outputId": "b727beee-a067-47d8-efa2-56b03cc38462"
      },
      "source": [
        "np.dot(A, v1)"
      ],
      "execution_count": 98,
      "outputs": [
        {
          "output_type": "execute_result",
          "data": {
            "text/plain": [
              "array([300, 310, 320, 330, 340])"
            ]
          },
          "metadata": {
            "tags": []
          },
          "execution_count": 98
        }
      ]
    },
    {
      "cell_type": "markdown",
      "metadata": {
        "id": "s0hdTRXKnWtn"
      },
      "source": [
        "**matrix**: Returns a matrix from an array-like object, or from a string of data. A matrix is a specialized 2-D array that retains its 2-D nature through operations. It has certain special operators, such as * (matrix multiplication) and ** (matrix power)."
      ]
    },
    {
      "cell_type": "code",
      "metadata": {
        "id": "OXQ3me8onMEh",
        "colab": {
          "base_uri": "https://localhost:8080/"
        },
        "outputId": "5a5d7d92-ffe4-464e-f4d3-9cd6bf12de1f"
      },
      "source": [
        "M = np.matrix(A)\r\n",
        "v = np.matrix(v1).T # make it a column vector\r\n",
        "v.shape"
      ],
      "execution_count": 108,
      "outputs": [
        {
          "output_type": "execute_result",
          "data": {
            "text/plain": [
              "(5, 1)"
            ]
          },
          "metadata": {
            "tags": []
          },
          "execution_count": 108
        }
      ]
    },
    {
      "cell_type": "code",
      "metadata": {
        "id": "GMWzdqOlnMJq",
        "colab": {
          "base_uri": "https://localhost:8080/"
        },
        "outputId": "39907dce-1658-4ae1-cfd4-22006781e664"
      },
      "source": [
        "#If we try to add, subtract or multiply objects with incomplatible shapes we get an error\r\n",
        "v = np.matrix([1,2,3,4,5,6]).T\r\n",
        "np.shape(M), np.shape(v)"
      ],
      "execution_count": 111,
      "outputs": [
        {
          "output_type": "execute_result",
          "data": {
            "text/plain": [
              "((5, 5), (6, 1))"
            ]
          },
          "metadata": {
            "tags": []
          },
          "execution_count": 111
        }
      ]
    },
    {
      "cell_type": "code",
      "metadata": {
        "id": "JCXNYdJBnML_",
        "colab": {
          "base_uri": "https://localhost:8080/",
          "height": 316
        },
        "outputId": "6744962b-2fe6-444f-eb5c-2f1b106c8106"
      },
      "source": [
        "M * v\r\n"
      ],
      "execution_count": 118,
      "outputs": [
        {
          "output_type": "error",
          "ename": "ValueError",
          "evalue": "ignored",
          "traceback": [
            "\u001b[0;31m---------------------------------------------------------------------------\u001b[0m",
            "\u001b[0;31mValueError\u001b[0m                                Traceback (most recent call last)",
            "\u001b[0;32m<ipython-input-118-e8f88679fe45>\u001b[0m in \u001b[0;36m<module>\u001b[0;34m()\u001b[0m\n\u001b[0;32m----> 1\u001b[0;31m \u001b[0mM\u001b[0m \u001b[0;34m*\u001b[0m \u001b[0mv\u001b[0m\u001b[0;34m\u001b[0m\u001b[0;34m\u001b[0m\u001b[0m\n\u001b[0m",
            "\u001b[0;32m/usr/local/lib/python3.7/dist-packages/numpy/matrixlib/defmatrix.py\u001b[0m in \u001b[0;36m__mul__\u001b[0;34m(self, other)\u001b[0m\n\u001b[1;32m    216\u001b[0m         \u001b[0;32mif\u001b[0m \u001b[0misinstance\u001b[0m\u001b[0;34m(\u001b[0m\u001b[0mother\u001b[0m\u001b[0;34m,\u001b[0m \u001b[0;34m(\u001b[0m\u001b[0mN\u001b[0m\u001b[0;34m.\u001b[0m\u001b[0mndarray\u001b[0m\u001b[0;34m,\u001b[0m \u001b[0mlist\u001b[0m\u001b[0;34m,\u001b[0m \u001b[0mtuple\u001b[0m\u001b[0;34m)\u001b[0m\u001b[0;34m)\u001b[0m \u001b[0;34m:\u001b[0m\u001b[0;34m\u001b[0m\u001b[0;34m\u001b[0m\u001b[0m\n\u001b[1;32m    217\u001b[0m             \u001b[0;31m# This promotes 1-D vectors to row vectors\u001b[0m\u001b[0;34m\u001b[0m\u001b[0;34m\u001b[0m\u001b[0;34m\u001b[0m\u001b[0m\n\u001b[0;32m--> 218\u001b[0;31m             \u001b[0;32mreturn\u001b[0m \u001b[0mN\u001b[0m\u001b[0;34m.\u001b[0m\u001b[0mdot\u001b[0m\u001b[0;34m(\u001b[0m\u001b[0mself\u001b[0m\u001b[0;34m,\u001b[0m \u001b[0masmatrix\u001b[0m\u001b[0;34m(\u001b[0m\u001b[0mother\u001b[0m\u001b[0;34m)\u001b[0m\u001b[0;34m)\u001b[0m\u001b[0;34m\u001b[0m\u001b[0;34m\u001b[0m\u001b[0m\n\u001b[0m\u001b[1;32m    219\u001b[0m         \u001b[0;32mif\u001b[0m \u001b[0misscalar\u001b[0m\u001b[0;34m(\u001b[0m\u001b[0mother\u001b[0m\u001b[0;34m)\u001b[0m \u001b[0;32mor\u001b[0m \u001b[0;32mnot\u001b[0m \u001b[0mhasattr\u001b[0m\u001b[0;34m(\u001b[0m\u001b[0mother\u001b[0m\u001b[0;34m,\u001b[0m \u001b[0;34m'__rmul__'\u001b[0m\u001b[0;34m)\u001b[0m \u001b[0;34m:\u001b[0m\u001b[0;34m\u001b[0m\u001b[0;34m\u001b[0m\u001b[0m\n\u001b[1;32m    220\u001b[0m             \u001b[0;32mreturn\u001b[0m \u001b[0mN\u001b[0m\u001b[0;34m.\u001b[0m\u001b[0mdot\u001b[0m\u001b[0;34m(\u001b[0m\u001b[0mself\u001b[0m\u001b[0;34m,\u001b[0m \u001b[0mother\u001b[0m\u001b[0;34m)\u001b[0m\u001b[0;34m\u001b[0m\u001b[0;34m\u001b[0m\u001b[0m\n",
            "\u001b[0;32m<__array_function__ internals>\u001b[0m in \u001b[0;36mdot\u001b[0;34m(*args, **kwargs)\u001b[0m\n",
            "\u001b[0;31mValueError\u001b[0m: shapes (5,5) and (6,1) not aligned: 5 (dim 1) != 6 (dim 0)"
          ]
        }
      ]
    },
    {
      "cell_type": "code",
      "metadata": {
        "id": "95jfZcbKnMOw"
      },
      "source": [
        "#Data processing\r\n",
        "\r\n",
        "from numpy import genfromtxt\r\n",
        "data = genfromtxt('/content/sample_data/mnist_test.csv', delimiter=',')"
      ],
      "execution_count": 119,
      "outputs": []
    },
    {
      "cell_type": "code",
      "metadata": {
        "id": "aVyRLA62pFmu",
        "colab": {
          "base_uri": "https://localhost:8080/"
        },
        "outputId": "a45a1d60-7cf3-4ec8-8e56-0d20d1cd9f4b"
      },
      "source": [
        "data.shape"
      ],
      "execution_count": 120,
      "outputs": [
        {
          "output_type": "execute_result",
          "data": {
            "text/plain": [
              "(10000, 785)"
            ]
          },
          "metadata": {
            "tags": []
          },
          "execution_count": 120
        }
      ]
    },
    {
      "cell_type": "code",
      "metadata": {
        "id": "-fEYdjRMsZTj",
        "colab": {
          "base_uri": "https://localhost:8080/"
        },
        "outputId": "f95a0376-b972-4dfb-de3a-9493e436fff0"
      },
      "source": [
        "np.mean(data[0,:])"
      ],
      "execution_count": 121,
      "outputs": [
        {
          "output_type": "execute_result",
          "data": {
            "text/plain": [
              "23.5171974522293"
            ]
          },
          "metadata": {
            "tags": []
          },
          "execution_count": 121
        }
      ]
    },
    {
      "cell_type": "code",
      "metadata": {
        "id": "QTTLkYJCrIpW",
        "colab": {
          "base_uri": "https://localhost:8080/"
        },
        "outputId": "0e57724c-9063-4319-dd80-2dfa7c4ead9a"
      },
      "source": [
        "#mean per row\r\n",
        "np.mean(data,axis=1)"
      ],
      "execution_count": 122,
      "outputs": [
        {
          "output_type": "execute_result",
          "data": {
            "text/plain": [
              "array([23.51719745, 36.75414013, 12.57579618, ..., 37.24203822,\n",
              "       33.83949045, 53.29808917])"
            ]
          },
          "metadata": {
            "tags": []
          },
          "execution_count": 122
        }
      ]
    },
    {
      "cell_type": "code",
      "metadata": {
        "id": "FUqQc46PrIsd",
        "colab": {
          "base_uri": "https://localhost:8080/"
        },
        "outputId": "757815fa-91c9-4635-eb0f-a3ef4fc19ab1"
      },
      "source": [
        "#mean per column\r\n",
        "np.mean(data,axis=0)"
      ],
      "execution_count": 123,
      "outputs": [
        {
          "output_type": "execute_result",
          "data": {
            "text/plain": [
              "array([4.443400e+00, 0.000000e+00, 0.000000e+00, 0.000000e+00,\n",
              "       0.000000e+00, 0.000000e+00, 0.000000e+00, 0.000000e+00,\n",
              "       0.000000e+00, 0.000000e+00, 0.000000e+00, 0.000000e+00,\n",
              "       0.000000e+00, 0.000000e+00, 0.000000e+00, 0.000000e+00,\n",
              "       0.000000e+00, 0.000000e+00, 0.000000e+00, 0.000000e+00,\n",
              "       0.000000e+00, 0.000000e+00, 0.000000e+00, 0.000000e+00,\n",
              "       0.000000e+00, 0.000000e+00, 0.000000e+00, 0.000000e+00,\n",
              "       0.000000e+00, 0.000000e+00, 0.000000e+00, 0.000000e+00,\n",
              "       0.000000e+00, 0.000000e+00, 3.800000e-03, 2.360000e-02,\n",
              "       1.580000e-02, 4.030000e-02, 5.110000e-02, 1.047000e-01,\n",
              "       2.343000e-01, 3.088000e-01, 2.660000e-01, 3.081000e-01,\n",
              "       2.343000e-01, 6.910000e-02, 8.970000e-02, 9.400000e-02,\n",
              "       5.020000e-02, 1.920000e-02, 0.000000e+00, 0.000000e+00,\n",
              "       0.000000e+00, 0.000000e+00, 0.000000e+00, 0.000000e+00,\n",
              "       0.000000e+00, 0.000000e+00, 0.000000e+00, 0.000000e+00,\n",
              "       0.000000e+00, 0.000000e+00, 4.370000e-02, 1.115000e-01,\n",
              "       1.453000e-01, 2.925000e-01, 6.072000e-01, 1.215600e+00,\n",
              "       2.147200e+00, 2.816600e+00, 3.333800e+00, 3.854300e+00,\n",
              "       3.854200e+00, 3.489100e+00, 2.763200e+00, 2.114400e+00,\n",
              "       1.536200e+00, 1.010300e+00, 4.551000e-01, 2.277000e-01,\n",
              "       7.890000e-02, 5.000000e-04, 0.000000e+00, 0.000000e+00,\n",
              "       0.000000e+00, 0.000000e+00, 0.000000e+00, 0.000000e+00,\n",
              "       0.000000e+00, 2.040000e-02, 7.320000e-02, 2.593000e-01,\n",
              "       5.675000e-01, 1.286500e+00, 2.597800e+00, 4.636000e+00,\n",
              "       6.899500e+00, 9.379700e+00, 1.146140e+01, 1.261020e+01,\n",
              "       1.318780e+01, 1.206290e+01, 9.901800e+00, 7.846000e+00,\n",
              "       5.545700e+00, 3.441500e+00, 1.819200e+00, 1.054800e+00,\n",
              "       4.305000e-01, 1.330000e-01, 4.510000e-02, 1.630000e-02,\n",
              "       0.000000e+00, 0.000000e+00, 0.000000e+00, 0.000000e+00,\n",
              "       1.880000e-02, 1.025000e-01, 2.157000e-01, 9.782000e-01,\n",
              "       2.528700e+00, 5.039100e+00, 9.443500e+00, 1.538080e+01,\n",
              "       2.304270e+01, 3.101350e+01, 3.893700e+01, 4.573200e+01,\n",
              "       4.796940e+01, 4.480630e+01, 3.779700e+01, 2.855180e+01,\n",
              "       2.069850e+01, 1.360980e+01, 7.920100e+00, 4.392300e+00,\n",
              "       2.119400e+00, 7.950000e-01, 2.013000e-01, 8.260000e-02,\n",
              "       0.000000e+00, 0.000000e+00, 2.400000e-03, 1.400000e-03,\n",
              "       3.550000e-02, 4.779000e-01, 1.431400e+00, 3.642500e+00,\n",
              "       7.296300e+00, 1.314640e+01, 2.256340e+01, 3.513880e+01,\n",
              "       4.953890e+01, 6.382080e+01, 7.801040e+01, 8.889100e+01,\n",
              "       9.334060e+01, 9.019060e+01, 8.030330e+01, 6.476140e+01,\n",
              "       4.831230e+01, 3.326570e+01, 2.044180e+01, 1.204680e+01,\n",
              "       6.200900e+00, 2.843800e+00, 7.661000e-01, 2.275000e-01,\n",
              "       0.000000e+00, 0.000000e+00, 0.000000e+00, 3.900000e-03,\n",
              "       2.551000e-01, 1.355300e+00, 3.380300e+00, 7.181300e+00,\n",
              "       1.409950e+01, 2.462060e+01, 3.943940e+01, 5.698400e+01,\n",
              "       7.603900e+01, 9.443560e+01, 1.102822e+02, 1.224228e+02,\n",
              "       1.272897e+02, 1.226800e+02, 1.118969e+02, 9.512140e+01,\n",
              "       7.369930e+01, 5.255740e+01, 3.347430e+01, 1.967330e+01,\n",
              "       1.024940e+01, 5.255200e+00, 1.722000e+00, 4.046000e-01,\n",
              "       3.770000e-02, 0.000000e+00, 1.530000e-02, 1.163000e-01,\n",
              "       7.318000e-01, 2.658100e+00, 6.011300e+00, 1.185460e+01,\n",
              "       2.216580e+01, 3.750570e+01, 5.707790e+01, 7.850930e+01,\n",
              "       9.995460e+01, 1.164187e+02, 1.279815e+02, 1.350768e+02,\n",
              "       1.366311e+02, 1.334321e+02, 1.265843e+02, 1.132335e+02,\n",
              "       9.298740e+01, 6.767600e+01, 4.441920e+01, 2.560600e+01,\n",
              "       1.372580e+01, 6.619300e+00, 2.538400e+00, 5.259000e-01,\n",
              "       2.850000e-02, 0.000000e+00, 6.560000e-02, 3.549000e-01,\n",
              "       1.206000e+00, 3.719200e+00, 8.226800e+00, 1.588640e+01,\n",
              "       2.900640e+01, 4.939130e+01, 7.369650e+01, 9.803520e+01,\n",
              "       1.146182e+02, 1.220033e+02, 1.234687e+02, 1.232816e+02,\n",
              "       1.223888e+02, 1.230964e+02, 1.239712e+02, 1.175281e+02,\n",
              "       1.005460e+02, 7.504270e+01, 4.945830e+01, 2.881470e+01,\n",
              "       1.478630e+01, 6.967500e+00, 2.809500e+00, 7.284000e-01,\n",
              "       4.620000e-02, 1.590000e-02, 1.574000e-01, 4.922000e-01,\n",
              "       1.661200e+00, 4.266300e+00, 9.217200e+00, 1.828980e+01,\n",
              "       3.371470e+01, 5.800870e+01, 8.621320e+01, 1.077836e+02,\n",
              "       1.148471e+02, 1.099650e+02, 1.017560e+02, 9.870790e+01,\n",
              "       9.930890e+01, 1.050510e+02, 1.134834e+02, 1.131620e+02,\n",
              "       9.872860e+01, 7.465500e+01, 4.940170e+01, 2.897220e+01,\n",
              "       1.431960e+01, 6.016400e+00, 2.040500e+00, 5.270000e-01,\n",
              "       5.520000e-02, 2.830000e-02, 1.164000e-01, 4.627000e-01,\n",
              "       1.476900e+00, 3.789300e+00, 8.726500e+00, 1.896620e+01,\n",
              "       3.679760e+01, 6.388610e+01, 9.208810e+01, 1.077591e+02,\n",
              "       1.049085e+02, 9.025940e+01, 8.030260e+01, 7.980030e+01,\n",
              "       8.454410e+01, 9.448250e+01, 1.078399e+02, 1.089417e+02,\n",
              "       9.376470e+01, 6.967660e+01, 4.543610e+01, 2.692690e+01,\n",
              "       1.310650e+01, 4.784100e+00, 1.099000e+00, 3.493000e-01,\n",
              "       6.620000e-02, 3.800000e-03, 6.230000e-02, 3.486000e-01,\n",
              "       1.022400e+00, 2.846400e+00, 8.391200e+00, 2.000490e+01,\n",
              "       4.082090e+01, 6.951600e+01, 9.516920e+01, 1.045161e+02,\n",
              "       9.458880e+01, 7.808670e+01, 7.187860e+01, 7.614040e+01,\n",
              "       8.680380e+01, 9.904310e+01, 1.104989e+02, 1.075000e+02,\n",
              "       8.846420e+01, 6.352270e+01, 4.098280e+01, 2.468630e+01,\n",
              "       1.255740e+01, 4.489200e+00, 6.776000e-01, 1.994000e-01,\n",
              "       2.020000e-02, 0.000000e+00, 4.430000e-02, 2.172000e-01,\n",
              "       6.346000e-01, 2.418700e+00, 8.812600e+00, 2.280110e+01,\n",
              "       4.577550e+01, 7.415990e+01, 9.534050e+01, 1.007961e+02,\n",
              "       8.975340e+01, 7.739370e+01, 7.864420e+01, 9.028270e+01,\n",
              "       1.038149e+02, 1.153380e+02, 1.201641e+02, 1.089967e+02,\n",
              "       8.389940e+01, 5.795090e+01, 3.755770e+01, 2.393980e+01,\n",
              "       1.299990e+01, 4.749900e+00, 5.851000e-01, 3.850000e-02,\n",
              "       0.000000e+00, 0.000000e+00, 1.840000e-02, 1.037000e-01,\n",
              "       4.556000e-01, 2.343600e+00, 1.023980e+01, 2.596150e+01,\n",
              "       4.967200e+01, 7.604680e+01, 9.376800e+01, 9.700420e+01,\n",
              "       8.947250e+01, 8.441430e+01, 9.637240e+01, 1.137059e+02,\n",
              "       1.273096e+02, 1.328049e+02, 1.289937e+02, 1.099905e+02,\n",
              "       8.092060e+01, 5.546380e+01, 3.729170e+01, 2.468710e+01,\n",
              "       1.385120e+01, 5.177500e+00, 6.201000e-01, 2.650000e-02,\n",
              "       0.000000e+00, 0.000000e+00, 0.000000e+00, 4.400000e-02,\n",
              "       3.415000e-01, 2.579200e+00, 1.203590e+01, 2.815610e+01,\n",
              "       5.145370e+01, 7.519960e+01, 9.079170e+01, 9.369610e+01,\n",
              "       9.156380e+01, 9.575100e+01, 1.163211e+02, 1.326752e+02,\n",
              "       1.427838e+02, 1.403815e+02, 1.298247e+02, 1.082670e+02,\n",
              "       7.900210e+01, 5.591770e+01, 3.941970e+01, 2.586360e+01,\n",
              "       1.504590e+01, 5.673000e+00, 8.053000e-01, 3.720000e-02,\n",
              "       0.000000e+00, 0.000000e+00, 0.000000e+00, 4.460000e-02,\n",
              "       3.400000e-01, 3.186900e+00, 1.366720e+01, 2.937960e+01,\n",
              "       5.044070e+01, 7.151700e+01, 8.527120e+01, 9.011370e+01,\n",
              "       9.295210e+01, 1.051403e+02, 1.254658e+02, 1.381471e+02,\n",
              "       1.429434e+02, 1.358695e+02, 1.245351e+02, 1.031654e+02,\n",
              "       7.869720e+01, 5.853830e+01, 4.208490e+01, 2.709090e+01,\n",
              "       1.523070e+01, 5.716100e+00, 9.917000e-01, 6.350000e-02,\n",
              "       6.700000e-03, 0.000000e+00, 4.700000e-03, 1.138000e-01,\n",
              "       4.804000e-01, 3.980200e+00, 1.517720e+01, 3.010230e+01,\n",
              "       4.843940e+01, 6.622990e+01, 7.763280e+01, 8.318050e+01,\n",
              "       8.834910e+01, 1.013690e+02, 1.177804e+02, 1.280954e+02,\n",
              "       1.300481e+02, 1.253875e+02, 1.160698e+02, 9.870340e+01,\n",
              "       7.990610e+01, 6.207130e+01, 4.314350e+01, 2.684500e+01,\n",
              "       1.390160e+01, 5.146900e+00, 1.053900e+00, 8.130000e-02,\n",
              "       2.100000e-02, 0.000000e+00, 0.000000e+00, 1.432000e-01,\n",
              "       8.165000e-01, 5.197100e+00, 1.682720e+01, 3.107550e+01,\n",
              "       4.654790e+01, 6.127630e+01, 7.126390e+01, 7.610600e+01,\n",
              "       8.079390e+01, 9.022840e+01, 1.029005e+02, 1.129146e+02,\n",
              "       1.173138e+02, 1.167914e+02, 1.117942e+02, 9.858200e+01,\n",
              "       8.253850e+01, 6.301540e+01, 4.234120e+01, 2.517120e+01,\n",
              "       1.223540e+01, 4.428100e+00, 9.825000e-01, 5.870000e-02,\n",
              "       2.400000e-02, 0.000000e+00, 1.260000e-02, 2.075000e-01,\n",
              "       1.427100e+00, 6.587600e+00, 1.858130e+01, 3.317960e+01,\n",
              "       4.781620e+01, 5.993130e+01, 6.778980e+01, 7.310060e+01,\n",
              "       7.767770e+01, 8.363260e+01, 9.518870e+01, 1.070036e+02,\n",
              "       1.151632e+02, 1.173008e+02, 1.127583e+02, 1.008491e+02,\n",
              "       8.357460e+01, 6.064650e+01, 3.884120e+01, 2.189240e+01,\n",
              "       1.011920e+01, 3.695900e+00, 1.066600e+00, 1.524000e-01,\n",
              "       1.010000e-02, 0.000000e+00, 2.550000e-02, 2.168000e-01,\n",
              "       1.976200e+00, 7.563300e+00, 1.988770e+01, 3.537820e+01,\n",
              "       5.063050e+01, 6.364060e+01, 7.304000e+01, 8.035820e+01,\n",
              "       8.526020e+01, 9.061090e+01, 1.015050e+02, 1.146044e+02,\n",
              "       1.219572e+02, 1.232403e+02, 1.149493e+02, 9.991660e+01,\n",
              "       7.799910e+01, 5.374900e+01, 3.277270e+01, 1.772900e+01,\n",
              "       8.119800e+00, 3.185600e+00, 9.799000e-01, 1.236000e-01,\n",
              "       2.000000e-03, 0.000000e+00, 3.600000e-03, 2.667000e-01,\n",
              "       2.146400e+00, 7.382600e+00, 1.888170e+01, 3.503200e+01,\n",
              "       5.237040e+01, 6.836550e+01, 8.189360e+01, 9.297880e+01,\n",
              "       1.004759e+02, 1.079449e+02, 1.182053e+02, 1.288625e+02,\n",
              "       1.317130e+02, 1.261113e+02, 1.112406e+02, 8.961980e+01,\n",
              "       6.471340e+01, 4.171550e+01, 2.408440e+01, 1.255000e+01,\n",
              "       5.726500e+00, 2.305000e+00, 6.506000e-01, 8.920000e-02,\n",
              "       0.000000e+00, 0.000000e+00, 0.000000e+00, 2.599000e-01,\n",
              "       1.891500e+00, 6.057300e+00, 1.553740e+01, 3.064130e+01,\n",
              "       4.961280e+01, 6.885030e+01, 8.718460e+01, 1.027053e+02,\n",
              "       1.147631e+02, 1.241601e+02, 1.333692e+02, 1.379721e+02,\n",
              "       1.322827e+02, 1.170928e+02, 9.510390e+01, 6.947810e+01,\n",
              "       4.567260e+01, 2.742800e+01, 1.472770e+01, 7.291900e+00,\n",
              "       3.537300e+00, 1.400900e+00, 2.617000e-01, 5.240000e-02,\n",
              "       0.000000e+00, 0.000000e+00, 0.000000e+00, 1.022000e-01,\n",
              "       1.070500e+00, 3.601900e+00, 1.004970e+01, 2.129210e+01,\n",
              "       3.826160e+01, 5.868460e+01, 8.012370e+01, 9.887240e+01,\n",
              "       1.136968e+02, 1.229034e+02, 1.283812e+02, 1.268547e+02,\n",
              "       1.138008e+02, 9.344500e+01, 6.859500e+01, 4.633970e+01,\n",
              "       2.782960e+01, 1.510730e+01, 7.632100e+00, 3.688200e+00,\n",
              "       1.735600e+00, 7.144000e-01, 1.953000e-01, 1.680000e-02,\n",
              "       0.000000e+00, 0.000000e+00, 2.400000e-03, 3.250000e-02,\n",
              "       3.605000e-01, 1.487300e+00, 4.532700e+00, 1.063480e+01,\n",
              "       2.191700e+01, 3.796040e+01, 5.628090e+01, 7.541410e+01,\n",
              "       9.077190e+01, 1.006236e+02, 1.021583e+02, 9.599860e+01,\n",
              "       8.119670e+01, 6.161240e+01, 4.199770e+01, 2.619540e+01,\n",
              "       1.412070e+01, 7.269200e+00, 3.455000e+00, 1.666100e+00,\n",
              "       7.297000e-01, 2.070000e-01, 8.550000e-02, 1.000000e-04,\n",
              "       0.000000e+00, 0.000000e+00, 0.000000e+00, 0.000000e+00,\n",
              "       8.690000e-02, 4.260000e-01, 1.362200e+00, 3.386900e+00,\n",
              "       7.823400e+00, 1.536820e+01, 2.458080e+01, 3.495920e+01,\n",
              "       4.353080e+01, 4.994330e+01, 5.134350e+01, 4.835080e+01,\n",
              "       4.070260e+01, 3.077310e+01, 2.052270e+01, 1.201960e+01,\n",
              "       6.593400e+00, 3.430300e+00, 1.358000e+00, 5.754000e-01,\n",
              "       1.976000e-01, 2.880000e-02, 4.000000e-04, 0.000000e+00,\n",
              "       0.000000e+00, 0.000000e+00, 0.000000e+00, 0.000000e+00,\n",
              "       3.600000e-03, 1.323000e-01, 4.233000e-01, 1.140700e+00,\n",
              "       2.733900e+00, 5.471100e+00, 8.903200e+00, 1.226920e+01,\n",
              "       1.584360e+01, 1.804770e+01, 1.871990e+01, 1.787410e+01,\n",
              "       1.507850e+01, 1.165610e+01, 7.978600e+00, 4.589400e+00,\n",
              "       2.632000e+00, 1.409700e+00, 6.127000e-01, 2.625000e-01,\n",
              "       8.960000e-02, 2.280000e-02, 6.800000e-03, 0.000000e+00,\n",
              "       0.000000e+00, 0.000000e+00, 0.000000e+00, 0.000000e+00,\n",
              "       0.000000e+00, 4.700000e-03, 1.261000e-01, 4.675000e-01,\n",
              "       1.052700e+00, 1.955200e+00, 3.027800e+00, 4.007700e+00,\n",
              "       5.282100e+00, 6.274300e+00, 6.570900e+00, 6.108700e+00,\n",
              "       4.862000e+00, 3.798100e+00, 2.634600e+00, 1.410300e+00,\n",
              "       8.956000e-01, 5.510000e-01, 2.891000e-01, 1.151000e-01,\n",
              "       5.000000e-02, 2.700000e-03, 0.000000e+00, 0.000000e+00,\n",
              "       0.000000e+00, 0.000000e+00, 0.000000e+00, 0.000000e+00,\n",
              "       0.000000e+00, 0.000000e+00, 0.000000e+00, 2.200000e-03,\n",
              "       4.350000e-02, 8.880000e-02, 1.332000e-01, 1.600000e-01,\n",
              "       1.843000e-01, 3.123000e-01, 4.534000e-01, 5.583000e-01,\n",
              "       5.746000e-01, 4.582000e-01, 2.741000e-01, 1.793000e-01,\n",
              "       1.636000e-01, 5.260000e-02, 6.000000e-04, 0.000000e+00,\n",
              "       0.000000e+00, 0.000000e+00, 0.000000e+00, 0.000000e+00,\n",
              "       0.000000e+00])"
            ]
          },
          "metadata": {
            "tags": []
          },
          "execution_count": 123
        }
      ]
    },
    {
      "cell_type": "code",
      "metadata": {
        "id": "fyQdZ0XfrIvc",
        "colab": {
          "base_uri": "https://localhost:8080/"
        },
        "outputId": "0ed93b8d-4484-464e-deac-812128dfc08d"
      },
      "source": [
        "print(data[1,:].max())\r\n",
        "print(data[1,:].min())"
      ],
      "execution_count": 124,
      "outputs": [
        {
          "output_type": "stream",
          "text": [
            "255.0\n",
            "0.0\n"
          ],
          "name": "stdout"
        }
      ]
    },
    {
      "cell_type": "markdown",
      "metadata": {
        "id": "Ue8Y4nqH_Vgp"
      },
      "source": [
        "### 3.8 Reshaping, resizing and stacking arrays\r\n",
        "\r\n",
        "The shape of an Numpy array can be modified without copying the underlaying data, which makes it a fast\r\n",
        "operation even for large arrays."
      ]
    },
    {
      "cell_type": "code",
      "metadata": {
        "id": "0y-6FpbWrIyD",
        "colab": {
          "base_uri": "https://localhost:8080/"
        },
        "outputId": "b079395b-e46d-4d67-8b0c-74668b2155cd"
      },
      "source": [
        "A = np.array([[m+n*10 for n in range(5)] for m in range(5)]) # like before\r\n",
        "A"
      ],
      "execution_count": 125,
      "outputs": [
        {
          "output_type": "execute_result",
          "data": {
            "text/plain": [
              "array([[ 0, 10, 20, 30, 40],\n",
              "       [ 1, 11, 21, 31, 41],\n",
              "       [ 2, 12, 22, 32, 42],\n",
              "       [ 3, 13, 23, 33, 43],\n",
              "       [ 4, 14, 24, 34, 44]])"
            ]
          },
          "metadata": {
            "tags": []
          },
          "execution_count": 125
        }
      ]
    },
    {
      "cell_type": "code",
      "metadata": {
        "id": "RVVX2nVQAOoS",
        "colab": {
          "base_uri": "https://localhost:8080/"
        },
        "outputId": "8f3fc3e1-6f71-4f20-ec7f-5ae4b417a29d"
      },
      "source": [
        "n, m = A.shape\r\n",
        "n,m"
      ],
      "execution_count": 126,
      "outputs": [
        {
          "output_type": "execute_result",
          "data": {
            "text/plain": [
              "(5, 5)"
            ]
          },
          "metadata": {
            "tags": []
          },
          "execution_count": 126
        }
      ]
    },
    {
      "cell_type": "code",
      "metadata": {
        "id": "IGJvitDxAIkZ",
        "colab": {
          "base_uri": "https://localhost:8080/"
        },
        "outputId": "6a61f19b-2a2b-428e-9300-7cd37a7dc4f8"
      },
      "source": [
        "B = A.reshape((1,n*m))\r\n",
        "B"
      ],
      "execution_count": 129,
      "outputs": [
        {
          "output_type": "execute_result",
          "data": {
            "text/plain": [
              "array([[ 0, 10, 20, 30, 40,  1, 11, 21, 31, 41,  2, 12, 22, 32, 42,  3,\n",
              "        13, 23, 33, 43,  4, 14, 24, 34, 44]])"
            ]
          },
          "metadata": {
            "tags": []
          },
          "execution_count": 129
        }
      ]
    },
    {
      "cell_type": "code",
      "metadata": {
        "id": "H3fR4zVVAIoc",
        "colab": {
          "base_uri": "https://localhost:8080/"
        },
        "outputId": "dc861062-b861-421b-f714-d331ee9085cf"
      },
      "source": [
        "A"
      ],
      "execution_count": 130,
      "outputs": [
        {
          "output_type": "execute_result",
          "data": {
            "text/plain": [
              "array([[ 0, 10, 20, 30, 40],\n",
              "       [ 1, 11, 21, 31, 41],\n",
              "       [ 2, 12, 22, 32, 42],\n",
              "       [ 3, 13, 23, 33, 43],\n",
              "       [ 4, 14, 24, 34, 44]])"
            ]
          },
          "metadata": {
            "tags": []
          },
          "execution_count": 130
        }
      ]
    },
    {
      "cell_type": "code",
      "metadata": {
        "id": "m1YSqhnNAIrH",
        "colab": {
          "base_uri": "https://localhost:8080/"
        },
        "outputId": "8b9f5011-f00b-41b8-9c0e-09d3efe497a8"
      },
      "source": [
        "B[0,0:5] = 5 # modify the array\r\n",
        "B"
      ],
      "execution_count": 131,
      "outputs": [
        {
          "output_type": "execute_result",
          "data": {
            "text/plain": [
              "array([[ 5,  5,  5,  5,  5,  1, 11, 21, 31, 41,  2, 12, 22, 32, 42,  3,\n",
              "        13, 23, 33, 43,  4, 14, 24, 34, 44]])"
            ]
          },
          "metadata": {
            "tags": []
          },
          "execution_count": 131
        }
      ]
    },
    {
      "cell_type": "code",
      "metadata": {
        "id": "IEhW6hehAItp",
        "colab": {
          "base_uri": "https://localhost:8080/"
        },
        "outputId": "5bce9ed2-9c4e-44e6-b618-7492a8b7be79"
      },
      "source": [
        "A ## and the original variable is also changed. B is only a different view of the same data"
      ],
      "execution_count": 132,
      "outputs": [
        {
          "output_type": "execute_result",
          "data": {
            "text/plain": [
              "array([[ 5,  5,  5,  5,  5],\n",
              "       [ 1, 11, 21, 31, 41],\n",
              "       [ 2, 12, 22, 32, 42],\n",
              "       [ 3, 13, 23, 33, 43],\n",
              "       [ 4, 14, 24, 34, 44]])"
            ]
          },
          "metadata": {
            "tags": []
          },
          "execution_count": 132
        }
      ]
    },
    {
      "cell_type": "code",
      "metadata": {
        "id": "TfAXRzpJAIwK",
        "colab": {
          "base_uri": "https://localhost:8080/"
        },
        "outputId": "c623080a-afb5-4f48-ca36-eddee7690fa1"
      },
      "source": [
        "#the function flatten makes a higher-dimensional array into a vector. But this function creates a copy of the data.\r\n",
        "\r\n",
        "C = A.flatten()\r\n",
        "C"
      ],
      "execution_count": 135,
      "outputs": [
        {
          "output_type": "execute_result",
          "data": {
            "text/plain": [
              "array([ 5,  5,  5,  5,  5,  1, 11, 21, 31, 41,  2, 12, 22, 32, 42,  3, 13,\n",
              "       23, 33, 43,  4, 14, 24, 34, 44])"
            ]
          },
          "metadata": {
            "tags": []
          },
          "execution_count": 135
        }
      ]
    },
    {
      "cell_type": "code",
      "metadata": {
        "id": "6VEakVOWBQ6K",
        "colab": {
          "base_uri": "https://localhost:8080/"
        },
        "outputId": "d1f7b2ef-f00e-42d7-9e6c-11946024d54e"
      },
      "source": [
        "C[0:5] = 10\r\n",
        "C"
      ],
      "execution_count": 136,
      "outputs": [
        {
          "output_type": "execute_result",
          "data": {
            "text/plain": [
              "array([10, 10, 10, 10, 10,  1, 11, 21, 31, 41,  2, 12, 22, 32, 42,  3, 13,\n",
              "       23, 33, 43,  4, 14, 24, 34, 44])"
            ]
          },
          "metadata": {
            "tags": []
          },
          "execution_count": 136
        }
      ]
    },
    {
      "cell_type": "code",
      "metadata": {
        "id": "WquvsjTQBGh5",
        "colab": {
          "base_uri": "https://localhost:8080/"
        },
        "outputId": "4902bed1-c450-4041-d10b-dc1b7cbcbd41"
      },
      "source": [
        "A"
      ],
      "execution_count": 137,
      "outputs": [
        {
          "output_type": "execute_result",
          "data": {
            "text/plain": [
              "array([[ 5,  5,  5,  5,  5],\n",
              "       [ 1, 11, 21, 31, 41],\n",
              "       [ 2, 12, 22, 32, 42],\n",
              "       [ 3, 13, 23, 33, 43],\n",
              "       [ 4, 14, 24, 34, 44]])"
            ]
          },
          "metadata": {
            "tags": []
          },
          "execution_count": 137
        }
      ]
    },
    {
      "cell_type": "markdown",
      "metadata": {
        "id": "hLhX4z3tFOX0"
      },
      "source": [
        "### 3.9 Adding a new dimension: newaxis\r\n",
        "\r\n",
        "With **newaxis**, we can insert new dimensions in an array, for example converting a vector to a column or\r\n",
        "row matrix"
      ]
    },
    {
      "cell_type": "code",
      "metadata": {
        "colab": {
          "base_uri": "https://localhost:8080/"
        },
        "id": "wlMDheSaFTzq",
        "outputId": "1cd4e2fe-a8bc-45dd-fc21-ea25bee9b507"
      },
      "source": [
        "v = np.array([1,2,3])\r\n",
        "np.shape(v)"
      ],
      "execution_count": 141,
      "outputs": [
        {
          "output_type": "execute_result",
          "data": {
            "text/plain": [
              "(3,)"
            ]
          },
          "metadata": {
            "tags": []
          },
          "execution_count": 141
        }
      ]
    },
    {
      "cell_type": "code",
      "metadata": {
        "colab": {
          "base_uri": "https://localhost:8080/"
        },
        "id": "KTaqk5ZkFT4i",
        "outputId": "7130c147-6ec0-4d59-9dd8-f534e7428e2f"
      },
      "source": [
        "# make a column matrix of the vector v\r\n",
        "v[:, np.newaxis]"
      ],
      "execution_count": 151,
      "outputs": [
        {
          "output_type": "execute_result",
          "data": {
            "text/plain": [
              "array([[1],\n",
              "       [2],\n",
              "       [3]])"
            ]
          },
          "metadata": {
            "tags": []
          },
          "execution_count": 151
        }
      ]
    },
    {
      "cell_type": "code",
      "metadata": {
        "colab": {
          "base_uri": "https://localhost:8080/"
        },
        "id": "4Q-MGjKCFUAr",
        "outputId": "626e40f9-7c2d-4c4d-afb2-ca256ee47e90"
      },
      "source": [
        "# column matrix\r\n",
        "v[:,np.newaxis].shape"
      ],
      "execution_count": 152,
      "outputs": [
        {
          "output_type": "execute_result",
          "data": {
            "text/plain": [
              "(3, 1)"
            ]
          },
          "metadata": {
            "tags": []
          },
          "execution_count": 152
        }
      ]
    },
    {
      "cell_type": "code",
      "metadata": {
        "colab": {
          "base_uri": "https://localhost:8080/"
        },
        "id": "UBhMYT5aHFZY",
        "outputId": "9ddd043c-ef9a-4606-a289-f04c54eb3b5f"
      },
      "source": [
        "# row matrix\r\n",
        "v[np.newaxis,:].shape"
      ],
      "execution_count": 153,
      "outputs": [
        {
          "output_type": "execute_result",
          "data": {
            "text/plain": [
              "(1, 3)"
            ]
          },
          "metadata": {
            "tags": []
          },
          "execution_count": 153
        }
      ]
    },
    {
      "cell_type": "markdown",
      "metadata": {
        "id": "aZFB2a0DBYha"
      },
      "source": [
        "### 3.10 Stacking and repeating arrays"
      ]
    },
    {
      "cell_type": "markdown",
      "metadata": {
        "id": "sNDv2GCxBcVx"
      },
      "source": [
        "**tile** and **repeat**"
      ]
    },
    {
      "cell_type": "code",
      "metadata": {
        "id": "e9h5Ggp0Be7S",
        "colab": {
          "base_uri": "https://localhost:8080/"
        },
        "outputId": "5178dabf-273c-494a-9e33-3eb12663de76"
      },
      "source": [
        "a = np.array([[1, 2], [3, 4]])\r\n",
        "a\r\n",
        "a.shape"
      ],
      "execution_count": 156,
      "outputs": [
        {
          "output_type": "execute_result",
          "data": {
            "text/plain": [
              "(2, 2)"
            ]
          },
          "metadata": {
            "tags": []
          },
          "execution_count": 156
        }
      ]
    },
    {
      "cell_type": "code",
      "metadata": {
        "id": "MPkA04JKBe9w",
        "colab": {
          "base_uri": "https://localhost:8080/"
        },
        "outputId": "c26a40fa-c3cf-49d5-bdaa-5e3364ecd089"
      },
      "source": [
        "# repeat each element 3 times\r\n",
        "np.repeat(a, 3)"
      ],
      "execution_count": 160,
      "outputs": [
        {
          "output_type": "execute_result",
          "data": {
            "text/plain": [
              "array([1, 1, 1, 2, 2, 2, 3, 3, 3, 4, 4, 4])"
            ]
          },
          "metadata": {
            "tags": []
          },
          "execution_count": 160
        }
      ]
    },
    {
      "cell_type": "code",
      "metadata": {
        "id": "_B6HpB3IBfBI",
        "colab": {
          "base_uri": "https://localhost:8080/"
        },
        "outputId": "78e56d12-fcbd-48fc-b0fe-4f0f16bf7d23"
      },
      "source": [
        "# tile the matrix 3 times\r\n",
        "np.tile(a, 3)"
      ],
      "execution_count": 163,
      "outputs": [
        {
          "output_type": "execute_result",
          "data": {
            "text/plain": [
              "array([[1, 2, 1, 2, 1, 2],\n",
              "       [3, 4, 3, 4, 3, 4]])"
            ]
          },
          "metadata": {
            "tags": []
          },
          "execution_count": 163
        }
      ]
    },
    {
      "cell_type": "markdown",
      "metadata": {
        "id": "035wKx5CB4Ps"
      },
      "source": [
        "**concatenate**"
      ]
    },
    {
      "cell_type": "code",
      "metadata": {
        "id": "Xfa3mGo_BfD2",
        "colab": {
          "base_uri": "https://localhost:8080/"
        },
        "outputId": "1923100e-7301-4b52-d04a-87e34a7eeb82"
      },
      "source": [
        "b = np.array([[5, 6]])\r\n",
        "np.concatenate((a, b), axis=0)"
      ],
      "execution_count": 165,
      "outputs": [
        {
          "output_type": "execute_result",
          "data": {
            "text/plain": [
              "array([[1, 2],\n",
              "       [3, 4],\n",
              "       [5, 6]])"
            ]
          },
          "metadata": {
            "tags": []
          },
          "execution_count": 165
        }
      ]
    },
    {
      "cell_type": "code",
      "metadata": {
        "id": "fGwYRUjFCGCP",
        "colab": {
          "base_uri": "https://localhost:8080/"
        },
        "outputId": "833387e3-4eb5-4bbe-fca5-769c32a0c514"
      },
      "source": [
        "np.concatenate((a, b.T), axis=1)"
      ],
      "execution_count": 166,
      "outputs": [
        {
          "output_type": "execute_result",
          "data": {
            "text/plain": [
              "array([[1, 2, 5],\n",
              "       [3, 4, 6]])"
            ]
          },
          "metadata": {
            "tags": []
          },
          "execution_count": 166
        }
      ]
    },
    {
      "cell_type": "markdown",
      "metadata": {
        "id": "sRHqvEdbCNuD"
      },
      "source": [
        "**hstack** and **vstack**"
      ]
    },
    {
      "cell_type": "code",
      "metadata": {
        "id": "8a_v3ArvCPCO",
        "colab": {
          "base_uri": "https://localhost:8080/"
        },
        "outputId": "10a1bd24-ce17-4a2a-fab2-adf46db60cc4"
      },
      "source": [
        "np.vstack((a,b)) #same as np.concatenate((a, b), axis=0)"
      ],
      "execution_count": 167,
      "outputs": [
        {
          "output_type": "execute_result",
          "data": {
            "text/plain": [
              "array([[1, 2],\n",
              "       [3, 4],\n",
              "       [5, 6]])"
            ]
          },
          "metadata": {
            "tags": []
          },
          "execution_count": 167
        }
      ]
    },
    {
      "cell_type": "code",
      "metadata": {
        "id": "eK1eoUIYCPFU",
        "colab": {
          "base_uri": "https://localhost:8080/"
        },
        "outputId": "85f3896c-d6b9-4703-9921-0a9fc3395bcb"
      },
      "source": [
        "np.hstack((a,b.T))#same as np.concatenate((a, b), axis=1)"
      ],
      "execution_count": 168,
      "outputs": [
        {
          "output_type": "execute_result",
          "data": {
            "text/plain": [
              "array([[1, 2, 5],\n",
              "       [3, 4, 6]])"
            ]
          },
          "metadata": {
            "tags": []
          },
          "execution_count": 168
        }
      ]
    },
    {
      "cell_type": "markdown",
      "metadata": {
        "id": "Q1U0UcuJCrwR"
      },
      "source": [
        "### 3.11 Copy and deep copy\r\n",
        "\r\n",
        "To achieve high performance, assignments in Python usually do not copy the underlaying objects. This is\r\n",
        "important for example when objects are passed between functions, to avoid an excessive amount of memory\r\n",
        "copying when it is not necessary (technical term: pass by reference)."
      ]
    },
    {
      "cell_type": "code",
      "metadata": {
        "id": "bJ1TUVpuC2wW",
        "colab": {
          "base_uri": "https://localhost:8080/"
        },
        "outputId": "59b3ea5f-2b0c-4b62-867b-b8a3e6d16612"
      },
      "source": [
        "A = np.array([[1, 2], [3, 4]])\r\n",
        "A"
      ],
      "execution_count": 169,
      "outputs": [
        {
          "output_type": "execute_result",
          "data": {
            "text/plain": [
              "array([[1, 2],\n",
              "       [3, 4]])"
            ]
          },
          "metadata": {
            "tags": []
          },
          "execution_count": 169
        }
      ]
    },
    {
      "cell_type": "code",
      "metadata": {
        "id": "XWDlUAGWC2ze",
        "colab": {
          "base_uri": "https://localhost:8080/"
        },
        "outputId": "2f57f9a9-9483-4f58-d0c2-10229654b6db"
      },
      "source": [
        "# now B is referring to the same array data as A\r\n",
        "B = A\r\n",
        "B"
      ],
      "execution_count": 170,
      "outputs": [
        {
          "output_type": "execute_result",
          "data": {
            "text/plain": [
              "array([[1, 2],\n",
              "       [3, 4]])"
            ]
          },
          "metadata": {
            "tags": []
          },
          "execution_count": 170
        }
      ]
    },
    {
      "cell_type": "code",
      "metadata": {
        "id": "voE0UQ0FC296",
        "colab": {
          "base_uri": "https://localhost:8080/"
        },
        "outputId": "4353fe41-c06a-43ad-ce18-98b99f0caf1d"
      },
      "source": [
        "# changing B affects A\r\n",
        "B[0,0] = 10\r\n",
        "B"
      ],
      "execution_count": 171,
      "outputs": [
        {
          "output_type": "execute_result",
          "data": {
            "text/plain": [
              "array([[10,  2],\n",
              "       [ 3,  4]])"
            ]
          },
          "metadata": {
            "tags": []
          },
          "execution_count": 171
        }
      ]
    },
    {
      "cell_type": "code",
      "metadata": {
        "id": "vMbFPbwcDBmN",
        "colab": {
          "base_uri": "https://localhost:8080/"
        },
        "outputId": "0595d683-dbb3-4278-9c03-56ee8c06de99"
      },
      "source": [
        "A"
      ],
      "execution_count": 172,
      "outputs": [
        {
          "output_type": "execute_result",
          "data": {
            "text/plain": [
              "array([[10,  2],\n",
              "       [ 3,  4]])"
            ]
          },
          "metadata": {
            "tags": []
          },
          "execution_count": 172
        }
      ]
    },
    {
      "cell_type": "markdown",
      "metadata": {
        "id": "POtgx-v5DL4U"
      },
      "source": [
        "If we want to avoid this behavior, so that when we get a new completely independent object B copied\r\n",
        "from A, then we need to do a so-called \"deep copy\" using the function **copy**"
      ]
    },
    {
      "cell_type": "code",
      "metadata": {
        "id": "N_f5mX51DQdE",
        "colab": {
          "base_uri": "https://localhost:8080/"
        },
        "outputId": "311568bd-9aaa-463c-bda2-2d1bc953a5ed"
      },
      "source": [
        "D = np.copy(A)\r\n",
        "D"
      ],
      "execution_count": 173,
      "outputs": [
        {
          "output_type": "execute_result",
          "data": {
            "text/plain": [
              "array([[10,  2],\n",
              "       [ 3,  4]])"
            ]
          },
          "metadata": {
            "tags": []
          },
          "execution_count": 173
        }
      ]
    },
    {
      "cell_type": "code",
      "metadata": {
        "id": "h8GEWbQFDXNq",
        "colab": {
          "base_uri": "https://localhost:8080/"
        },
        "outputId": "04dd1722-3f0b-455a-d7fc-ef871ca11e28"
      },
      "source": [
        "# now, if we modify B, A is not affected\r\n",
        "D[0,0] = -5\r\n",
        "D"
      ],
      "execution_count": 174,
      "outputs": [
        {
          "output_type": "execute_result",
          "data": {
            "text/plain": [
              "array([[-5,  2],\n",
              "       [ 3,  4]])"
            ]
          },
          "metadata": {
            "tags": []
          },
          "execution_count": 174
        }
      ]
    },
    {
      "cell_type": "code",
      "metadata": {
        "id": "vjwgN0sODaIi",
        "colab": {
          "base_uri": "https://localhost:8080/"
        },
        "outputId": "14ab8797-9efc-4a46-f591-32f918d05b6b"
      },
      "source": [
        "A"
      ],
      "execution_count": 175,
      "outputs": [
        {
          "output_type": "execute_result",
          "data": {
            "text/plain": [
              "array([[10,  2],\n",
              "       [ 3,  4]])"
            ]
          },
          "metadata": {
            "tags": []
          },
          "execution_count": 175
        }
      ]
    },
    {
      "cell_type": "markdown",
      "metadata": {
        "id": "oMmunbpbDdFN"
      },
      "source": [
        "### 3.12 Iterating over array elements"
      ]
    },
    {
      "cell_type": "code",
      "metadata": {
        "id": "LlmpxOZVDg2X",
        "colab": {
          "base_uri": "https://localhost:8080/"
        },
        "outputId": "0f0ae629-2c57-471b-fd3c-363ea3d056b9"
      },
      "source": [
        "v = np.array([1,2,3,4])\r\n",
        "\r\n",
        "for element in v:\r\n",
        "  print(element)"
      ],
      "execution_count": 176,
      "outputs": [
        {
          "output_type": "stream",
          "text": [
            "1\n",
            "2\n",
            "3\n",
            "4\n"
          ],
          "name": "stdout"
        }
      ]
    },
    {
      "cell_type": "markdown",
      "metadata": {
        "id": "GiFWbvVNEmeY"
      },
      "source": [
        "When we need to iterate over each element of an array and modify its elements, it is convenient to use\r\n",
        "the **enumerate** function to obtain both the element and its index in the for loop"
      ]
    },
    {
      "cell_type": "code",
      "metadata": {
        "id": "D5Y837tCFXLO",
        "colab": {
          "base_uri": "https://localhost:8080/"
        },
        "outputId": "06d34c2e-b096-4e3e-ade5-0e6092376cc7"
      },
      "source": [
        "grocery = ['bread', 'milk', 'butter']\r\n",
        "enumerateGrocery = enumerate(grocery)\r\n",
        "\r\n",
        "print(type(enumerateGrocery))\r\n",
        "\r\n",
        "# converting to list\r\n",
        "print(list(enumerateGrocery))\r\n",
        "\r\n",
        "# changing the default counter\r\n",
        "enumerateGrocery = enumerate(grocery, 10)\r\n",
        "print(list(enumerateGrocery))"
      ],
      "execution_count": 177,
      "outputs": [
        {
          "output_type": "stream",
          "text": [
            "<class 'enumerate'>\n",
            "[(0, 'bread'), (1, 'milk'), (2, 'butter')]\n",
            "[(10, 'bread'), (11, 'milk'), (12, 'butter')]\n"
          ],
          "name": "stdout"
        }
      ]
    },
    {
      "cell_type": "code",
      "metadata": {
        "id": "Jq_lHuDIDg8X",
        "colab": {
          "base_uri": "https://localhost:8080/"
        },
        "outputId": "a540d014-da26-4508-dcba-2f225123f102"
      },
      "source": [
        "M = np.array([[1,2], [3,4]])\r\n",
        "print(M)\r\n",
        "print()\r\n",
        "\r\n",
        "\r\n",
        "for row in M:\r\n",
        "  print(\"row\", row)\r\n",
        "  for element in row:\r\n",
        "    print(element)\r\n",
        "\r\n",
        "\r\n"
      ],
      "execution_count": 181,
      "outputs": [
        {
          "output_type": "stream",
          "text": [
            "[[1 2]\n",
            " [3 4]]\n",
            "\n",
            "row [1 2]\n",
            "1\n",
            "2\n",
            "row [3 4]\n",
            "3\n",
            "4\n"
          ],
          "name": "stdout"
        }
      ]
    },
    {
      "cell_type": "markdown",
      "metadata": {
        "id": "j42_YmskGf-l"
      },
      "source": [
        "When we need to iterate over each element of an array and modify its elements, it is convenient to use\r\n",
        "the enumerate function to obtain both the element and its index in the for loop"
      ]
    },
    {
      "cell_type": "code",
      "metadata": {
        "id": "VKGfK6T-Dg_k",
        "colab": {
          "base_uri": "https://localhost:8080/"
        },
        "outputId": "d6377e19-5992-4167-9176-0247a1fcfecd"
      },
      "source": [
        "for row_idx, row in enumerate(M):\r\n",
        "  print(\"row_idx\", row_idx, \"row\", row)\r\n",
        "  for col_idx, element in enumerate(row):\r\n",
        "    print(\"col_idx\", col_idx, \"element\", element)\r\n",
        "      # update the matrix M: square each element\r\n",
        "    M[row_idx, col_idx] = element ** 2"
      ],
      "execution_count": 182,
      "outputs": [
        {
          "output_type": "stream",
          "text": [
            "row_idx 0 row [1 2]\n",
            "col_idx 0 element 1\n",
            "col_idx 1 element 2\n",
            "row_idx 1 row [3 4]\n",
            "col_idx 0 element 3\n",
            "col_idx 1 element 4\n"
          ],
          "name": "stdout"
        }
      ]
    },
    {
      "cell_type": "code",
      "metadata": {
        "colab": {
          "base_uri": "https://localhost:8080/"
        },
        "id": "F_SwWyPDME-J",
        "outputId": "281ca98d-686d-4958-ca87-10cb675de152"
      },
      "source": [
        "M"
      ],
      "execution_count": 183,
      "outputs": [
        {
          "output_type": "execute_result",
          "data": {
            "text/plain": [
              "array([[ 1,  4],\n",
              "       [ 9, 16]])"
            ]
          },
          "metadata": {
            "tags": []
          },
          "execution_count": 183
        }
      ]
    },
    {
      "cell_type": "markdown",
      "metadata": {
        "id": "-fHiCigz8eSO"
      },
      "source": [
        "### 3.14 Using arrays in conditions\r\n",
        "\r\n",
        "When using arrays in conditions,for example if statements and other boolean expressions, one needs to use\r\n",
        "any or all, which requires that any or all elements in the array evalutes to True"
      ]
    },
    {
      "cell_type": "code",
      "metadata": {
        "id": "Ie4889Yn8hze"
      },
      "source": [
        "M = np.array([[ 0, 4], [ 9, 16]])"
      ],
      "execution_count": 190,
      "outputs": []
    },
    {
      "cell_type": "code",
      "metadata": {
        "id": "eyjbxY0sQEdP",
        "colab": {
          "base_uri": "https://localhost:8080/"
        },
        "outputId": "2c073c39-bcf4-4089-bc0f-5b0c288e1918"
      },
      "source": [
        "if (M > 5).any():\r\n",
        "  print(\"at least one element in M is larger than 5\")\r\n",
        "else:\r\n",
        "  print(\"no element in M is larger than 5\")"
      ],
      "execution_count": 187,
      "outputs": [
        {
          "output_type": "stream",
          "text": [
            "no element in M is larger than 5\n"
          ],
          "name": "stdout"
        }
      ]
    },
    {
      "cell_type": "code",
      "metadata": {
        "id": "0ydwMWydQvjv",
        "colab": {
          "base_uri": "https://localhost:8080/"
        },
        "outputId": "472f4a58-be77-4619-d83c-6cdda073d475"
      },
      "source": [
        "if (M > 5).all():\r\n",
        "  print(\"all elements in M are larger than 5\")\r\n",
        "else:\r\n",
        "  print(\"all elements in M are not larger than 5\")"
      ],
      "execution_count": 191,
      "outputs": [
        {
          "output_type": "stream",
          "text": [
            "all elements in M are larger than 5\n"
          ],
          "name": "stdout"
        }
      ]
    }
  ]
}