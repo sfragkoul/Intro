{
  "nbformat": 4,
  "nbformat_minor": 0,
  "metadata": {
    "colab": {
      "name": "4. Exercises - PUBLIC.ipynb",
      "provenance": [],
      "authorship_tag": "ABX9TyMNyIxDaM7cdxe/lxC3KIHO",
      "include_colab_link": true
    },
    "kernelspec": {
      "name": "python3",
      "display_name": "Python 3"
    }
  },
  "cells": [
    {
      "cell_type": "markdown",
      "metadata": {
        "id": "view-in-github",
        "colab_type": "text"
      },
      "source": [
        "<a href=\"https://colab.research.google.com/github/sfragkoul/Intro/blob/main/4_Exercises_PUBLIC.ipynb\" target=\"_parent\"><img src=\"https://colab.research.google.com/assets/colab-badge.svg\" alt=\"Open In Colab\"/></a>"
      ]
    },
    {
      "cell_type": "markdown",
      "metadata": {
        "id": "nE8CGGGYdL0I"
      },
      "source": [
        "Notebook by Stella Fragkouli based on exercises from [w3resource\r\n",
        "](https://www.w3resource.com/python-exercises/). \r\n",
        "\r\n",
        "\r\n",
        "Aristotle University of Thessaloniki\r\n",
        "\r\n",
        "v1.0 (March 2021)"
      ]
    },
    {
      "cell_type": "code",
      "metadata": {
        "id": "8V-VKa5WknE1"
      },
      "source": [
        "import numpy as np\r\n",
        "import matplotlib.pyplot as plt\r\n"
      ],
      "execution_count": null,
      "outputs": []
    },
    {
      "cell_type": "markdown",
      "metadata": {
        "id": "Uk_5zL-Xrle9"
      },
      "source": [
        "[numpy arrays depicted](https://www.w3resource.com/w3r_images/python-numpy-arrays-image.png)"
      ]
    },
    {
      "cell_type": "markdown",
      "metadata": {
        "id": "UVSXP5rjjzrv"
      },
      "source": [
        "### 1.\r\n",
        "Write a NumPy program to test whether any of the elements of a given array is non-zero."
      ]
    },
    {
      "cell_type": "code",
      "metadata": {
        "colab": {
          "base_uri": "https://localhost:8080/"
        },
        "id": "Kba5FO0sdKud",
        "outputId": "5f1025ed-cbb4-4b18-c093-8412fea9c614"
      },
      "source": [
        "x = np.array([1, 0, 0, 0])\r\n",
        "print(x)\r\n",
        "print(np.any(x))"
      ],
      "execution_count": null,
      "outputs": [
        {
          "output_type": "stream",
          "text": [
            "[1 0 0 0]\n",
            "True\n"
          ],
          "name": "stdout"
        }
      ]
    },
    {
      "cell_type": "code",
      "metadata": {
        "colab": {
          "base_uri": "https://localhost:8080/"
        },
        "id": "6eC7dfTyk9Ac",
        "outputId": "f582963e-fa9a-4c80-e3cb-454b8033dd90"
      },
      "source": [
        "x1=np.array([0, 0, 0, 0])\r\n",
        "print(np.any(x1))"
      ],
      "execution_count": null,
      "outputs": [
        {
          "output_type": "stream",
          "text": [
            "False\n"
          ],
          "name": "stdout"
        }
      ]
    },
    {
      "cell_type": "markdown",
      "metadata": {
        "id": "OoHOSeiElhr1"
      },
      "source": [
        "[Numpy any() ](https://drive.google.com/file/d/1adOAB3jlWdThioGdaTxp3JXUw0_tZius/view?usp=sharing)"
      ]
    },
    {
      "cell_type": "markdown",
      "metadata": {
        "id": "ClJfwV6ylxxD"
      },
      "source": [
        "### 2.\r\n",
        "\r\n",
        "Create a list and fill it with odd numbers from 0 to 100\r\n"
      ]
    },
    {
      "cell_type": "code",
      "metadata": {
        "colab": {
          "base_uri": "https://localhost:8080/"
        },
        "id": "B2J29cUVmV8w",
        "outputId": "6d3aea5a-4fdc-4d8b-f145-c0b869e17065"
      },
      "source": [
        "M =[]\r\n",
        "\r\n",
        "for i in range(0,100):\r\n",
        "  if i%2!=0:\r\n",
        "    M.append(i)\r\n",
        "print(M)    "
      ],
      "execution_count": null,
      "outputs": [
        {
          "output_type": "stream",
          "text": [
            "[1, 3, 5, 7, 9, 11, 13, 15, 17, 19, 21, 23, 25, 27, 29, 31, 33, 35, 37, 39, 41, 43, 45, 47, 49, 51, 53, 55, 57, 59, 61, 63, 65, 67, 69, 71, 73, 75, 77, 79, 81, 83, 85, 87, 89, 91, 93, 95, 97, 99]\n"
          ],
          "name": "stdout"
        }
      ]
    },
    {
      "cell_type": "code",
      "metadata": {
        "colab": {
          "base_uri": "https://localhost:8080/"
        },
        "id": "4XB_FSYJm-bj",
        "outputId": "f1a095c1-9627-4f48-f57e-d5b77d3a24c9"
      },
      "source": [
        "N =[]\r\n",
        "\r\n",
        "for i in range(0,50):\r\n",
        "  n=2*i + 1\r\n",
        "  N.append(n)\r\n",
        "print(N)  "
      ],
      "execution_count": null,
      "outputs": [
        {
          "output_type": "stream",
          "text": [
            "[1, 3, 5, 7, 9, 11, 13, 15, 17, 19, 21, 23, 25, 27, 29, 31, 33, 35, 37, 39, 41, 43, 45, 47, 49, 51, 53, 55, 57, 59, 61, 63, 65, 67, 69, 71, 73, 75, 77, 79, 81, 83, 85, 87, 89, 91, 93, 95, 97, 99]\n"
          ],
          "name": "stdout"
        }
      ]
    },
    {
      "cell_type": "markdown",
      "metadata": {
        "id": "e7lBFqR8nqd6"
      },
      "source": [
        "### 3.\r\n",
        "\r\n",
        "Write a NumPy program to create a 3X4 array using and iterate over it."
      ]
    },
    {
      "cell_type": "code",
      "metadata": {
        "colab": {
          "base_uri": "https://localhost:8080/"
        },
        "id": "mXYtRCYtoIft",
        "outputId": "92b0c409-7503-46c8-f3f3-a927fd4dd8dc"
      },
      "source": [
        "a = np.arange(10,22).reshape((3, 4))\r\n",
        "print(\"Original array:\")\r\n",
        "print(a)\r\n",
        "print(\"Each element of the array is:\")\r\n",
        "for x in np.nditer(a): #nditer is an efficient multi-dimensional iterator object to iterate over arrays. \r\n",
        "  print(x,end=\" \")"
      ],
      "execution_count": null,
      "outputs": [
        {
          "output_type": "stream",
          "text": [
            "Original array:\n",
            "[[10 11 12 13]\n",
            " [14 15 16 17]\n",
            " [18 19 20 21]]\n",
            "Each element of the array is:\n",
            "10 11 12 13 14 15 16 17 18 19 20 21 "
          ],
          "name": "stdout"
        }
      ]
    },
    {
      "cell_type": "markdown",
      "metadata": {
        "id": "EIJhuo4Qo2-e"
      },
      "source": [
        "### 4.\r\n",
        "\r\n",
        "Write a NumPy program to compute sum of all elements, sum of each column and sum of each row of a given array"
      ]
    },
    {
      "cell_type": "code",
      "metadata": {
        "colab": {
          "base_uri": "https://localhost:8080/"
        },
        "id": "SXF7qVito3JM",
        "outputId": "f21c6abd-f50a-4240-e8dc-6c151eda466f"
      },
      "source": [
        "x = np.array([[0,1],[2,3]])\r\n",
        "print(\"Original array:\")\r\n",
        "print(x)\r\n",
        "print(\"Sum of all elements:\")\r\n",
        "print(np.sum(x))\r\n",
        "print(\"Sum of each column:\")\r\n",
        "print(np.sum(x, axis=0))\r\n",
        "print(\"Sum of each row:\")\r\n",
        "print(np.sum(x, axis=1))"
      ],
      "execution_count": null,
      "outputs": [
        {
          "output_type": "stream",
          "text": [
            "Original array:\n",
            "[[0 1]\n",
            " [2 3]]\n",
            "Sum of all elements:\n",
            "6\n",
            "Sum of each column:\n",
            "[2 4]\n",
            "Sum of each row:\n",
            "[1 5]\n"
          ],
          "name": "stdout"
        }
      ]
    },
    {
      "cell_type": "markdown",
      "metadata": {
        "id": "GzKwOvHGo3gr"
      },
      "source": [
        "### 5.\r\n",
        "\r\n",
        "Write a NumPy program to create a vector with values ​​from 0 to 20 and change the sign of the numbers in the range from 9 to 15."
      ]
    },
    {
      "cell_type": "code",
      "metadata": {
        "colab": {
          "base_uri": "https://localhost:8080/"
        },
        "id": "6H9C4-4Do3ny",
        "outputId": "5b04cd0e-66d0-4646-d338-97889783f84f"
      },
      "source": [
        "x = np.arange(21)\r\n",
        "print(\"Original vector:\")\r\n",
        "print(x)\r\n",
        "print(\"After changing the sign of the numbers in the range from 9 to 15:\")\r\n",
        "x[(x >= 9) * (x <= 15)] *= -1\r\n",
        "print(x)"
      ],
      "execution_count": null,
      "outputs": [
        {
          "output_type": "stream",
          "text": [
            "Original vector:\n",
            "[ 0  1  2  3  4  5  6  7  8  9 10 11 12 13 14 15 16 17 18 19 20]\n",
            "After changing the sign of the numbers in the range from 9 to 15:\n",
            "[  0   1   2   3   4   5   6   7   8  -9 -10 -11 -12 -13 -14 -15  16  17\n",
            "  18  19  20]\n"
          ],
          "name": "stdout"
        }
      ]
    },
    {
      "cell_type": "markdown",
      "metadata": {
        "id": "b05s0a68o3xq"
      },
      "source": [
        "### 6.\r\n",
        "\r\n",
        "Write a NumPy program to test whether each element of a 1-D array is also present in a second array."
      ]
    },
    {
      "cell_type": "code",
      "metadata": {
        "colab": {
          "base_uri": "https://localhost:8080/"
        },
        "id": "rxBViyGHo349",
        "outputId": "b39057a3-376e-4504-ce11-28ca6133fe87"
      },
      "source": [
        "array1 = np.array([0, 10, 20, 40, 60])\r\n",
        "print(\"Array1: \",array1)\r\n",
        "array2 = [0, 40]\r\n",
        "print(\"Array2: \",array2)\r\n",
        "print(\"Compare each element of array1 and array2\")\r\n",
        "print(np.in1d(array1, array2))"
      ],
      "execution_count": null,
      "outputs": [
        {
          "output_type": "stream",
          "text": [
            "Array1:  [ 0 10 20 40 60]\n",
            "Array2:  [0, 40]\n",
            "Compare each element of array1 and array2\n",
            "[ True False False  True False]\n"
          ],
          "name": "stdout"
        }
      ]
    },
    {
      "cell_type": "markdown",
      "metadata": {
        "id": "7JW2zJ9Po4C6"
      },
      "source": [
        "### 7. \r\n",
        "\r\n",
        "Write a NumPy program to find the union of two arrays. Union will return the unique, sorted array of values that are in either of the two input arrays.\r\n"
      ]
    },
    {
      "cell_type": "code",
      "metadata": {
        "colab": {
          "base_uri": "https://localhost:8080/"
        },
        "id": "5o_mZLvwo4K6",
        "outputId": "d08621f6-5cd7-46cb-dea9-7d2f70fe5573"
      },
      "source": [
        "array1 = np.array([0, 10, 20, 40, 60, 80])\r\n",
        "print(\"Array1: \",array1)\r\n",
        "array2 = [10, 30, 40, 50, 70]\r\n",
        "print(\"Array2: \",array2)\r\n",
        "print(\"Unique sorted array of values that are in either of the two input arrays:\")\r\n",
        "print(np.union1d(array1, array2)) #Return the unique, sorted array of values that are in either of the two input arrays"
      ],
      "execution_count": null,
      "outputs": [
        {
          "output_type": "stream",
          "text": [
            "Array1:  [ 0 10 20 40 60 80]\n",
            "Array2:  [10, 30, 40, 50, 70]\n",
            "Unique sorted array of values that are in either of the two input arrays:\n",
            "[ 0 10 20 30 40 50 60 70 80]\n"
          ],
          "name": "stdout"
        }
      ]
    },
    {
      "cell_type": "markdown",
      "metadata": {
        "id": "pj8onuJOo4Uy"
      },
      "source": [
        "### 8. \r\n",
        "\r\n",
        "Write a NumPy program to calculate the absolute value element-wise."
      ]
    },
    {
      "cell_type": "code",
      "metadata": {
        "colab": {
          "base_uri": "https://localhost:8080/"
        },
        "id": "pj3ZxrUko4c8",
        "outputId": "60610f3e-7ffb-4b6c-c046-d81ed5d8877c"
      },
      "source": [
        "import math\r\n",
        "\r\n",
        "x = np.array([math.cos(0), math.cos(math.pi)])\r\n",
        "print(\"Original array:\")\r\n",
        "print(x)\r\n",
        "print(\"Element-wise absolute value:\")\r\n",
        "print(np.absolute(x))"
      ],
      "execution_count": null,
      "outputs": [
        {
          "output_type": "stream",
          "text": [
            "Original array:\n",
            "[ 1. -1.]\n",
            "Element-wise absolute value:\n",
            "[1. 1.]\n"
          ],
          "name": "stdout"
        }
      ]
    },
    {
      "cell_type": "markdown",
      "metadata": {
        "id": "JO61DUN8o4mr"
      },
      "source": [
        "### 9.\r\n",
        "\r\n",
        "Write a NumPy program to remove the negative values in a NumPy array with 0."
      ]
    },
    {
      "cell_type": "code",
      "metadata": {
        "colab": {
          "base_uri": "https://localhost:8080/"
        },
        "id": "i11tEngb5Z5I",
        "outputId": "db65317f-49db-4952-988f-cff3255b6d01"
      },
      "source": [
        "x = np.array([-1, -4, 0, 2, 3, 4, 5, -6])\r\n",
        "print(\"Original array:\")\r\n",
        "print(x)\r\n",
        "print(\"Replace the negative values of the said array with 0:\")\r\n",
        "x[x<0] = 0\r\n",
        "print(x)"
      ],
      "execution_count": null,
      "outputs": [
        {
          "output_type": "stream",
          "text": [
            "Original array:\n",
            "[-1 -4  0  2  3  4  5 -6]\n",
            "Replace the negative values of the said array with 0:\n",
            "[0 0 0 2 3 4 5 0]\n"
          ],
          "name": "stdout"
        }
      ]
    },
    {
      "cell_type": "markdown",
      "metadata": {
        "id": "d6Oziuom5zlb"
      },
      "source": [
        "### 10.\r\n",
        "\r\n",
        "Write a NumPy program to select indices satisfying multiple conditions in a NumPy array.  Select the elements from the second array corresponding to elements in the first array that are greater than 100 and less than 110"
      ]
    },
    {
      "cell_type": "code",
      "metadata": {
        "colab": {
          "base_uri": "https://localhost:8080/"
        },
        "id": "kdD6nNuL5Z7O",
        "outputId": "bb23562a-ee65-463b-940f-ef541cb7c3d3"
      },
      "source": [
        "a = np.array([97, 101, 105, 111, 117])\r\n",
        "b = np.array(['a','e','i','o','u'])\r\n",
        "print(\"Original arrays\")\r\n",
        "print(a)\r\n",
        "print(b)\r\n",
        "print(\"Elements from the second array  corresponding to elements in the first array  that are greater than 100 and less than 110:\")\r\n",
        "print(b[(100 < a) & (a < 110)])"
      ],
      "execution_count": null,
      "outputs": [
        {
          "output_type": "stream",
          "text": [
            "Original arrays\n",
            "[ 97 101 105 111 117]\n",
            "['a' 'e' 'i' 'o' 'u']\n",
            "Elements from the second array  corresponding to elements in the first array  that are greater than 100 and less than 110:\n",
            "['e' 'i']\n"
          ],
          "name": "stdout"
        }
      ]
    },
    {
      "cell_type": "markdown",
      "metadata": {
        "id": "Me0rwwSUBrEa"
      },
      "source": [
        "### 11.\r\n",
        "\r\n",
        "Write a NumPy program to count the frequency of unique values in NumPy array."
      ]
    },
    {
      "cell_type": "code",
      "metadata": {
        "colab": {
          "base_uri": "https://localhost:8080/"
        },
        "id": "muAHK0t5BrO1",
        "outputId": "a3f0047f-81fb-4ca3-abcf-074a3af7fd93"
      },
      "source": [
        "a = np.array( [10,10,20,10,20,20,20,30, 30,50,40,40] )\r\n",
        "print(\"Original array:\")\r\n",
        "print(a)\r\n",
        "unique_elements, counts_elements = np.unique(a, return_counts=True)\r\n",
        "print(\"Frequency of unique values of the said array:\")\r\n",
        "print(np.asarray((unique_elements, counts_elements))) #Convert the input to an array.\r\n",
        "print((unique_elements, counts_elements))"
      ],
      "execution_count": null,
      "outputs": [
        {
          "output_type": "stream",
          "text": [
            "Original array:\n",
            "[10 10 20 10 20 20 20 30 30 50 40 40]\n",
            "Frequency of unique values of the said array:\n",
            "[[10 20 30 40 50]\n",
            " [ 3  4  2  2  1]]\n",
            "(array([10, 20, 30, 40, 50]), array([3, 4, 2, 2, 1]))\n"
          ],
          "name": "stdout"
        }
      ]
    },
    {
      "cell_type": "markdown",
      "metadata": {
        "id": "tAGysVLHDC1e"
      },
      "source": [
        "[counts](https://www.w3resource.com/w3r_images/python-numpy-image-exercise-94.png)"
      ]
    }
  ]
}